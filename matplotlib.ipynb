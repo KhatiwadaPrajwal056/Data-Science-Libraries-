{
 "cells": [
  {
   "cell_type": "code",
   "execution_count": null,
   "metadata": {},
   "outputs": [],
   "source": [
    "# pirechart alternative redar chart\n",
    "# scatter plot and box plot\n",
    "#x,y scatter plot:  +z variable : bubble plot\n",
    "\n",
    "#VBA(c#) : **\n"
   ]
  }
 ],
 "metadata": {
  "language_info": {
   "name": "python"
  },
  "orig_nbformat": 4
 },
 "nbformat": 4,
 "nbformat_minor": 2
}
