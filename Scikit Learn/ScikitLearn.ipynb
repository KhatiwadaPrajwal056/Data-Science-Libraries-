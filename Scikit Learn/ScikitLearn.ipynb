{
 "cells": [
  {
   "cell_type": "markdown",
   "metadata": {},
   "source": [
    "## Introduction to Scikit-Learn\n",
    "This notebook demonstrate the some of the useful function in scikitlearn\n",
    "\n",
    "Topics covered:\n",
    "1. An end to end scikit learn workflow\n",
    "2. Getting the data ready\n",
    "3. Choose the right estimator/algorithm\n",
    "4. Fit the model/algorithm and use it to make prediction\n",
    "5. Evaluating a model\n",
    "6. Improve the model\n",
    "7. Save and load a trained model\n",
    "8. Putting it all together"
   ]
  },
  {
   "cell_type": "markdown",
   "metadata": {},
   "source": [
    "## 1. End to end Sklearn Workflow"
   ]
  },
  {
   "cell_type": "code",
   "execution_count": null,
   "metadata": {},
   "outputs": [],
   "source": []
  }
 ],
 "metadata": {
  "kernelspec": {
   "display_name": "Python 3 (ipykernel)",
   "language": "python",
   "name": "python3"
  },
  "language_info": {
   "codemirror_mode": {
    "name": "ipython",
    "version": 3
   },
   "file_extension": ".py",
   "mimetype": "text/x-python",
   "name": "python",
   "nbconvert_exporter": "python",
   "pygments_lexer": "ipython3",
   "version": "3.11.1"
  }
 },
 "nbformat": 4,
 "nbformat_minor": 2
}
