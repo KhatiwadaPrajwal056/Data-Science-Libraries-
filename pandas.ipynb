{
 "cells": [
  {
   "attachments": {},
   "cell_type": "markdown",
   "metadata": {},
   "source": [
    "Pandas\n",
    "\n",
    "    "
   ]
  },
  {
   "cell_type": "markdown",
   "metadata": {},
   "source": []
  },
  {
   "attachments": {},
   "cell_type": "markdown",
   "metadata": {},
   "source": [
    "Introductions::: "
   ]
  },
  {
   "cell_type": "code",
   "execution_count": 4,
   "metadata": {},
   "outputs": [],
   "source": [
    "import pandas as pd\n",
    "#Here we will be focusing on two main datatypes : series and dataframe\n",
    "        "
   ]
  },
  {
   "attachments": {},
   "cell_type": "markdown",
   "metadata": {},
   "source": [
    "IMPORTING AND EXPORTING DATA: "
   ]
  },
  {
   "cell_type": "code",
   "execution_count": 7,
   "metadata": {},
   "outputs": [
    {
     "data": {
      "text/plain": [
       "0    prajwal\n",
       "1      sagar\n",
       "2    sarthak\n",
       "dtype: object"
      ]
     },
     "execution_count": 7,
     "metadata": {},
     "output_type": "execute_result"
    }
   ],
   "source": [
    "#Series is 1D\n",
    "series=pd.Series([\"prajwal\",\"sagar\",\"sarthak\"])\n",
    "series   #Here we get 1D ie column"
   ]
  },
  {
   "cell_type": "code",
   "execution_count": 13,
   "metadata": {},
   "outputs": [
    {
     "data": {
      "text/plain": [
       "0    yellow\n",
       "1     white\n",
       "2     grenn\n",
       "dtype: object"
      ]
     },
     "execution_count": 13,
     "metadata": {},
     "output_type": "execute_result"
    }
   ],
   "source": [
    "colors=pd.Series(['yellow','white','grenn'])\n",
    "colors"
   ]
  },
  {
   "cell_type": "code",
   "execution_count": 19,
   "metadata": {},
   "outputs": [
    {
     "data": {
      "text/plain": [
       "0    20\n",
       "1    30\n",
       "2    40\n",
       "dtype: object"
      ]
     },
     "execution_count": 19,
     "metadata": {},
     "output_type": "execute_result"
    }
   ],
   "source": [
    "age=pd.Series(['20','30','40'])\n",
    "age"
   ]
  },
  {
   "cell_type": "code",
   "execution_count": 20,
   "metadata": {},
   "outputs": [
    {
     "data": {
      "text/html": [
       "<div>\n",
       "<style scoped>\n",
       "    .dataframe tbody tr th:only-of-type {\n",
       "        vertical-align: middle;\n",
       "    }\n",
       "\n",
       "    .dataframe tbody tr th {\n",
       "        vertical-align: top;\n",
       "    }\n",
       "\n",
       "    .dataframe thead th {\n",
       "        text-align: right;\n",
       "    }\n",
       "</style>\n",
       "<table border=\"1\" class=\"dataframe\">\n",
       "  <thead>\n",
       "    <tr style=\"text-align: right;\">\n",
       "      <th></th>\n",
       "      <th>Name</th>\n",
       "      <th>age</th>\n",
       "      <th>colours</th>\n",
       "    </tr>\n",
       "  </thead>\n",
       "  <tbody>\n",
       "    <tr>\n",
       "      <th>0</th>\n",
       "      <td>prajwal</td>\n",
       "      <td>20</td>\n",
       "      <td>yellow</td>\n",
       "    </tr>\n",
       "    <tr>\n",
       "      <th>1</th>\n",
       "      <td>sagar</td>\n",
       "      <td>30</td>\n",
       "      <td>white</td>\n",
       "    </tr>\n",
       "    <tr>\n",
       "      <th>2</th>\n",
       "      <td>sarthak</td>\n",
       "      <td>40</td>\n",
       "      <td>grenn</td>\n",
       "    </tr>\n",
       "  </tbody>\n",
       "</table>\n",
       "</div>"
      ],
      "text/plain": [
       "      Name age colours\n",
       "0  prajwal  20  yellow\n",
       "1    sagar  30   white\n",
       "2  sarthak  40   grenn"
      ]
     },
     "execution_count": 20,
     "metadata": {},
     "output_type": "execute_result"
    }
   ],
   "source": [
    "#Data Frame is 2D and it takes like python dictionary\n",
    "# We can create daraftrame out from series\n",
    "human_data=pd.DataFrame({\n",
    "    \"Name\" :series,\n",
    "    \"age\":age,\n",
    "    \"colours\":colors\n",
    "})  \n",
    "human_data"
   ]
  },
  {
   "attachments": {},
   "cell_type": "markdown",
   "metadata": {},
   "source": [
    "These all making a data from scratch can be bit tedious so we rather import the data\n",
    "So lets import the dataset "
   ]
  },
  {
   "cell_type": "code",
   "execution_count": 332,
   "metadata": {},
   "outputs": [
    {
     "data": {
      "text/html": [
       "<div>\n",
       "<style scoped>\n",
       "    .dataframe tbody tr th:only-of-type {\n",
       "        vertical-align: middle;\n",
       "    }\n",
       "\n",
       "    .dataframe tbody tr th {\n",
       "        vertical-align: top;\n",
       "    }\n",
       "\n",
       "    .dataframe thead th {\n",
       "        text-align: right;\n",
       "    }\n",
       "</style>\n",
       "<table border=\"1\" class=\"dataframe\">\n",
       "  <thead>\n",
       "    <tr style=\"text-align: right;\">\n",
       "      <th></th>\n",
       "      <th>Title</th>\n",
       "      <th>Author</th>\n",
       "      <th>Genre</th>\n",
       "      <th>Height</th>\n",
       "      <th>Publisher</th>\n",
       "      <th>Price</th>\n",
       "    </tr>\n",
       "  </thead>\n",
       "  <tbody>\n",
       "    <tr>\n",
       "      <th>0</th>\n",
       "      <td>Fundamentals of Wavelets</td>\n",
       "      <td>Goswami, Jaideva</td>\n",
       "      <td>signal_processing</td>\n",
       "      <td>228</td>\n",
       "      <td>Wiley</td>\n",
       "      <td>$4,000.00</td>\n",
       "    </tr>\n",
       "    <tr>\n",
       "      <th>1</th>\n",
       "      <td>Data Smart</td>\n",
       "      <td>Foreman, John</td>\n",
       "      <td>data_science</td>\n",
       "      <td>235</td>\n",
       "      <td>Wiley</td>\n",
       "      <td>$5,000.00</td>\n",
       "    </tr>\n",
       "    <tr>\n",
       "      <th>2</th>\n",
       "      <td>God Created the Integers</td>\n",
       "      <td>Hawking, Stephen</td>\n",
       "      <td>mathematics</td>\n",
       "      <td>197</td>\n",
       "      <td>Penguin</td>\n",
       "      <td>$7,000.00</td>\n",
       "    </tr>\n",
       "    <tr>\n",
       "      <th>3</th>\n",
       "      <td>Superfreakonomics</td>\n",
       "      <td>Dubner, Stephen</td>\n",
       "      <td>economics</td>\n",
       "      <td>179</td>\n",
       "      <td>HarperCollins</td>\n",
       "      <td>$22,000.00</td>\n",
       "    </tr>\n",
       "    <tr>\n",
       "      <th>4</th>\n",
       "      <td>Orientalism</td>\n",
       "      <td>Said, Edward</td>\n",
       "      <td>history</td>\n",
       "      <td>197</td>\n",
       "      <td>Penguin</td>\n",
       "      <td>$3,500.00</td>\n",
       "    </tr>\n",
       "    <tr>\n",
       "      <th>5</th>\n",
       "      <td>Nature of Statistical Learning Theory, The</td>\n",
       "      <td>Vapnik, Vladimir</td>\n",
       "      <td>data_science</td>\n",
       "      <td>230</td>\n",
       "      <td>Springer</td>\n",
       "      <td>$4,500.00</td>\n",
       "    </tr>\n",
       "    <tr>\n",
       "      <th>6</th>\n",
       "      <td>Integration of the Indian States</td>\n",
       "      <td>Menon, V P</td>\n",
       "      <td>history</td>\n",
       "      <td>217</td>\n",
       "      <td>Orient Blackswan</td>\n",
       "      <td>$7,500.00</td>\n",
       "    </tr>\n",
       "    <tr>\n",
       "      <th>7</th>\n",
       "      <td>Drunkard's Walk, The</td>\n",
       "      <td>Mlodinow, Leonard</td>\n",
       "      <td>science</td>\n",
       "      <td>197</td>\n",
       "      <td>Penguin</td>\n",
       "      <td>$7,000.00</td>\n",
       "    </tr>\n",
       "    <tr>\n",
       "      <th>8</th>\n",
       "      <td>Image Processing &amp; Mathematical Morphology</td>\n",
       "      <td>Shih, Frank</td>\n",
       "      <td>signal_processing</td>\n",
       "      <td>241</td>\n",
       "      <td>CRC</td>\n",
       "      <td>$6,250.00</td>\n",
       "    </tr>\n",
       "  </tbody>\n",
       "</table>\n",
       "</div>"
      ],
      "text/plain": [
       "                                        Title             Author  \\\n",
       "0                    Fundamentals of Wavelets   Goswami, Jaideva   \n",
       "1                                  Data Smart      Foreman, John   \n",
       "2                    God Created the Integers   Hawking, Stephen   \n",
       "3                           Superfreakonomics    Dubner, Stephen   \n",
       "4                                 Orientalism       Said, Edward   \n",
       "5  Nature of Statistical Learning Theory, The   Vapnik, Vladimir   \n",
       "6            Integration of the Indian States         Menon, V P   \n",
       "7                        Drunkard's Walk, The  Mlodinow, Leonard   \n",
       "8  Image Processing & Mathematical Morphology        Shih, Frank   \n",
       "\n",
       "               Genre  Height         Publisher       Price  \n",
       "0  signal_processing     228             Wiley   $4,000.00  \n",
       "1       data_science     235             Wiley   $5,000.00  \n",
       "2        mathematics     197           Penguin   $7,000.00  \n",
       "3          economics     179     HarperCollins  $22,000.00  \n",
       "4            history     197           Penguin   $3,500.00  \n",
       "5       data_science     230          Springer   $4,500.00  \n",
       "6            history     217  Orient Blackswan   $7,500.00  \n",
       "7            science     197           Penguin   $7,000.00  \n",
       "8  signal_processing     241               CRC   $6,250.00  "
      ]
     },
     "execution_count": 332,
     "metadata": {},
     "output_type": "execute_result"
    }
   ],
   "source": [
    "#Importing the dataset file i.e csv(comma separated value) file\n",
    "#Can also be imported using the url as well\n",
    "book_sales=pd.read_csv(\"books.csv\")\n",
    "book_sales"
   ]
  },
  {
   "attachments": {},
   "cell_type": "markdown",
   "metadata": {},
   "source": [
    "Now we can have the advantage of this data to manipulate and change from the pandas functions that is provided"
   ]
  },
  {
   "cell_type": "code",
   "execution_count": 259,
   "metadata": {},
   "outputs": [],
   "source": [
    "#Exporting the dataframe  : .to_csv(\"new_file_name\")\n",
    "book_sales.to_csv(\"Exported_books.csv\")"
   ]
  },
  {
   "cell_type": "code",
   "execution_count": 337,
   "metadata": {},
   "outputs": [
    {
     "data": {
      "text/html": [
       "<div>\n",
       "<style scoped>\n",
       "    .dataframe tbody tr th:only-of-type {\n",
       "        vertical-align: middle;\n",
       "    }\n",
       "\n",
       "    .dataframe tbody tr th {\n",
       "        vertical-align: top;\n",
       "    }\n",
       "\n",
       "    .dataframe thead th {\n",
       "        text-align: right;\n",
       "    }\n",
       "</style>\n",
       "<table border=\"1\" class=\"dataframe\">\n",
       "  <thead>\n",
       "    <tr style=\"text-align: right;\">\n",
       "      <th></th>\n",
       "      <th>Title</th>\n",
       "      <th>Author</th>\n",
       "      <th>Genre</th>\n",
       "      <th>Height</th>\n",
       "      <th>Publisher</th>\n",
       "      <th>Price</th>\n",
       "    </tr>\n",
       "  </thead>\n",
       "  <tbody>\n",
       "    <tr>\n",
       "      <th>0</th>\n",
       "      <td>Fundamentals of Wavelets</td>\n",
       "      <td>Goswami, Jaideva</td>\n",
       "      <td>signal_processing</td>\n",
       "      <td>228</td>\n",
       "      <td>Wiley</td>\n",
       "      <td>$4,000.00</td>\n",
       "    </tr>\n",
       "    <tr>\n",
       "      <th>1</th>\n",
       "      <td>Data Smart</td>\n",
       "      <td>Foreman, John</td>\n",
       "      <td>data_science</td>\n",
       "      <td>235</td>\n",
       "      <td>Wiley</td>\n",
       "      <td>$5,000.00</td>\n",
       "    </tr>\n",
       "    <tr>\n",
       "      <th>2</th>\n",
       "      <td>God Created the Integers</td>\n",
       "      <td>Hawking, Stephen</td>\n",
       "      <td>mathematics</td>\n",
       "      <td>197</td>\n",
       "      <td>Penguin</td>\n",
       "      <td>$7,000.00</td>\n",
       "    </tr>\n",
       "    <tr>\n",
       "      <th>3</th>\n",
       "      <td>Superfreakonomics</td>\n",
       "      <td>Dubner, Stephen</td>\n",
       "      <td>economics</td>\n",
       "      <td>179</td>\n",
       "      <td>HarperCollins</td>\n",
       "      <td>$22,000.00</td>\n",
       "    </tr>\n",
       "    <tr>\n",
       "      <th>4</th>\n",
       "      <td>Orientalism</td>\n",
       "      <td>Said, Edward</td>\n",
       "      <td>history</td>\n",
       "      <td>197</td>\n",
       "      <td>Penguin</td>\n",
       "      <td>$3,500.00</td>\n",
       "    </tr>\n",
       "    <tr>\n",
       "      <th>5</th>\n",
       "      <td>Nature of Statistical Learning Theory, The</td>\n",
       "      <td>Vapnik, Vladimir</td>\n",
       "      <td>data_science</td>\n",
       "      <td>230</td>\n",
       "      <td>Springer</td>\n",
       "      <td>$4,500.00</td>\n",
       "    </tr>\n",
       "    <tr>\n",
       "      <th>6</th>\n",
       "      <td>Integration of the Indian States</td>\n",
       "      <td>Menon, V P</td>\n",
       "      <td>history</td>\n",
       "      <td>217</td>\n",
       "      <td>Orient Blackswan</td>\n",
       "      <td>$7,500.00</td>\n",
       "    </tr>\n",
       "    <tr>\n",
       "      <th>7</th>\n",
       "      <td>Drunkard's Walk, The</td>\n",
       "      <td>Mlodinow, Leonard</td>\n",
       "      <td>science</td>\n",
       "      <td>197</td>\n",
       "      <td>Penguin</td>\n",
       "      <td>$7,000.00</td>\n",
       "    </tr>\n",
       "    <tr>\n",
       "      <th>8</th>\n",
       "      <td>Image Processing &amp; Mathematical Morphology</td>\n",
       "      <td>Shih, Frank</td>\n",
       "      <td>signal_processing</td>\n",
       "      <td>241</td>\n",
       "      <td>CRC</td>\n",
       "      <td>$6,250.00</td>\n",
       "    </tr>\n",
       "  </tbody>\n",
       "</table>\n",
       "</div>"
      ],
      "text/plain": [
       "                                        Title             Author  \\\n",
       "0                    Fundamentals of Wavelets   Goswami, Jaideva   \n",
       "1                                  Data Smart      Foreman, John   \n",
       "2                    God Created the Integers   Hawking, Stephen   \n",
       "3                           Superfreakonomics    Dubner, Stephen   \n",
       "4                                 Orientalism       Said, Edward   \n",
       "5  Nature of Statistical Learning Theory, The   Vapnik, Vladimir   \n",
       "6            Integration of the Indian States         Menon, V P   \n",
       "7                        Drunkard's Walk, The  Mlodinow, Leonard   \n",
       "8  Image Processing & Mathematical Morphology        Shih, Frank   \n",
       "\n",
       "               Genre  Height         Publisher       Price  \n",
       "0  signal_processing     228             Wiley   $4,000.00  \n",
       "1       data_science     235             Wiley   $5,000.00  \n",
       "2        mathematics     197           Penguin   $7,000.00  \n",
       "3          economics     179     HarperCollins  $22,000.00  \n",
       "4            history     197           Penguin   $3,500.00  \n",
       "5       data_science     230          Springer   $4,500.00  \n",
       "6            history     217  Orient Blackswan   $7,500.00  \n",
       "7            science     197           Penguin   $7,000.00  \n",
       "8  signal_processing     241               CRC   $6,250.00  "
      ]
     },
     "execution_count": 337,
     "metadata": {},
     "output_type": "execute_result"
    }
   ],
   "source": [
    "book_sales2=pd.read_csv(\"Exported_books.csv\")\n",
    "book_sales2"
   ]
  },
  {
   "attachments": {},
   "cell_type": "markdown",
   "metadata": {},
   "source": [
    "Here It comes as indexing as  new unmaned column :\n",
    "Solution to this : index =false while exporting i.e\n",
    "\n",
    "-> book_sales.to_csv(\"Exported_books.csv\",index=False)"
   ]
  },
  {
   "cell_type": "code",
   "execution_count": 261,
   "metadata": {},
   "outputs": [],
   "source": [
    "book_sales.to_csv(\"Exported_books.csv\",index=False)"
   ]
  },
  {
   "cell_type": "code",
   "execution_count": 262,
   "metadata": {},
   "outputs": [
    {
     "data": {
      "text/html": [
       "<div>\n",
       "<style scoped>\n",
       "    .dataframe tbody tr th:only-of-type {\n",
       "        vertical-align: middle;\n",
       "    }\n",
       "\n",
       "    .dataframe tbody tr th {\n",
       "        vertical-align: top;\n",
       "    }\n",
       "\n",
       "    .dataframe thead th {\n",
       "        text-align: right;\n",
       "    }\n",
       "</style>\n",
       "<table border=\"1\" class=\"dataframe\">\n",
       "  <thead>\n",
       "    <tr style=\"text-align: right;\">\n",
       "      <th></th>\n",
       "      <th>Title</th>\n",
       "      <th>Author</th>\n",
       "      <th>Genre</th>\n",
       "      <th>Height</th>\n",
       "      <th>Publisher</th>\n",
       "      <th>Price</th>\n",
       "    </tr>\n",
       "  </thead>\n",
       "  <tbody>\n",
       "    <tr>\n",
       "      <th>0</th>\n",
       "      <td>Fundamentals of Wavelets</td>\n",
       "      <td>Goswami, Jaideva</td>\n",
       "      <td>signal_processing</td>\n",
       "      <td>228</td>\n",
       "      <td>Wiley</td>\n",
       "      <td>$4,000.00</td>\n",
       "    </tr>\n",
       "    <tr>\n",
       "      <th>1</th>\n",
       "      <td>Data Smart</td>\n",
       "      <td>Foreman, John</td>\n",
       "      <td>data_science</td>\n",
       "      <td>235</td>\n",
       "      <td>Wiley</td>\n",
       "      <td>$5,000.00</td>\n",
       "    </tr>\n",
       "    <tr>\n",
       "      <th>2</th>\n",
       "      <td>God Created the Integers</td>\n",
       "      <td>Hawking, Stephen</td>\n",
       "      <td>mathematics</td>\n",
       "      <td>197</td>\n",
       "      <td>Penguin</td>\n",
       "      <td>$7,000.00</td>\n",
       "    </tr>\n",
       "    <tr>\n",
       "      <th>3</th>\n",
       "      <td>Superfreakonomics</td>\n",
       "      <td>Dubner, Stephen</td>\n",
       "      <td>economics</td>\n",
       "      <td>179</td>\n",
       "      <td>HarperCollins</td>\n",
       "      <td>$22,000.00</td>\n",
       "    </tr>\n",
       "    <tr>\n",
       "      <th>4</th>\n",
       "      <td>Orientalism</td>\n",
       "      <td>Said, Edward</td>\n",
       "      <td>history</td>\n",
       "      <td>197</td>\n",
       "      <td>Penguin</td>\n",
       "      <td>$3,500.00</td>\n",
       "    </tr>\n",
       "    <tr>\n",
       "      <th>5</th>\n",
       "      <td>Nature of Statistical Learning Theory, The</td>\n",
       "      <td>Vapnik, Vladimir</td>\n",
       "      <td>data_science</td>\n",
       "      <td>230</td>\n",
       "      <td>Springer</td>\n",
       "      <td>$4,500.00</td>\n",
       "    </tr>\n",
       "    <tr>\n",
       "      <th>6</th>\n",
       "      <td>Integration of the Indian States</td>\n",
       "      <td>Menon, V P</td>\n",
       "      <td>history</td>\n",
       "      <td>217</td>\n",
       "      <td>Orient Blackswan</td>\n",
       "      <td>$7,500.00</td>\n",
       "    </tr>\n",
       "    <tr>\n",
       "      <th>7</th>\n",
       "      <td>Drunkard's Walk, The</td>\n",
       "      <td>Mlodinow, Leonard</td>\n",
       "      <td>science</td>\n",
       "      <td>197</td>\n",
       "      <td>Penguin</td>\n",
       "      <td>$7,000.00</td>\n",
       "    </tr>\n",
       "    <tr>\n",
       "      <th>8</th>\n",
       "      <td>Image Processing &amp; Mathematical Morphology</td>\n",
       "      <td>Shih, Frank</td>\n",
       "      <td>signal_processing</td>\n",
       "      <td>241</td>\n",
       "      <td>CRC</td>\n",
       "      <td>$6,250.00</td>\n",
       "    </tr>\n",
       "  </tbody>\n",
       "</table>\n",
       "</div>"
      ],
      "text/plain": [
       "                                        Title             Author  \\\n",
       "0                    Fundamentals of Wavelets   Goswami, Jaideva   \n",
       "1                                  Data Smart      Foreman, John   \n",
       "2                    God Created the Integers   Hawking, Stephen   \n",
       "3                           Superfreakonomics    Dubner, Stephen   \n",
       "4                                 Orientalism       Said, Edward   \n",
       "5  Nature of Statistical Learning Theory, The   Vapnik, Vladimir   \n",
       "6            Integration of the Indian States         Menon, V P   \n",
       "7                        Drunkard's Walk, The  Mlodinow, Leonard   \n",
       "8  Image Processing & Mathematical Morphology        Shih, Frank   \n",
       "\n",
       "               Genre  Height         Publisher       Price  \n",
       "0  signal_processing     228             Wiley   $4,000.00  \n",
       "1       data_science     235             Wiley   $5,000.00  \n",
       "2        mathematics     197           Penguin   $7,000.00  \n",
       "3          economics     179     HarperCollins  $22,000.00  \n",
       "4            history     197           Penguin   $3,500.00  \n",
       "5       data_science     230          Springer   $4,500.00  \n",
       "6            history     217  Orient Blackswan   $7,500.00  \n",
       "7            science     197           Penguin   $7,000.00  \n",
       "8  signal_processing     241               CRC   $6,250.00  "
      ]
     },
     "execution_count": 262,
     "metadata": {},
     "output_type": "execute_result"
    }
   ],
   "source": [
    "book_sales3=pd.read_csv(\"Exported_books.csv\")\n",
    "book_sales3 "
   ]
  },
  {
   "attachments": {},
   "cell_type": "markdown",
   "metadata": {},
   "source": [
    "DESCRIBING THE DATA:"
   ]
  },
  {
   "cell_type": "code",
   "execution_count": 263,
   "metadata": {},
   "outputs": [
    {
     "data": {
      "text/plain": [
       "Title        object\n",
       "Author       object\n",
       "Genre        object\n",
       "Height        int64\n",
       "Publisher    object\n",
       "Price        object\n",
       "dtype: object"
      ]
     },
     "execution_count": 263,
     "metadata": {},
     "output_type": "execute_result"
    }
   ],
   "source": [
    "book_sales.dtypes  #Info about the column of the book sales"
   ]
  },
  {
   "cell_type": "code",
   "execution_count": 264,
   "metadata": {},
   "outputs": [
    {
     "data": {
      "text/plain": [
       "Index(['Title', 'Author', 'Genre', 'Height', 'Publisher', 'Price'], dtype='object')"
      ]
     },
     "execution_count": 264,
     "metadata": {},
     "output_type": "execute_result"
    }
   ],
   "source": [
    "book_sales.columns #Returns as a list of column names"
   ]
  },
  {
   "cell_type": "code",
   "execution_count": 265,
   "metadata": {},
   "outputs": [
    {
     "data": {
      "text/plain": [
       "RangeIndex(start=0, stop=9, step=1)"
      ]
     },
     "execution_count": 265,
     "metadata": {},
     "output_type": "execute_result"
    }
   ],
   "source": [
    "book_sales.index #indexing "
   ]
  },
  {
   "cell_type": "code",
   "execution_count": 266,
   "metadata": {},
   "outputs": [
    {
     "data": {
      "text/html": [
       "<div>\n",
       "<style scoped>\n",
       "    .dataframe tbody tr th:only-of-type {\n",
       "        vertical-align: middle;\n",
       "    }\n",
       "\n",
       "    .dataframe tbody tr th {\n",
       "        vertical-align: top;\n",
       "    }\n",
       "\n",
       "    .dataframe thead th {\n",
       "        text-align: right;\n",
       "    }\n",
       "</style>\n",
       "<table border=\"1\" class=\"dataframe\">\n",
       "  <thead>\n",
       "    <tr style=\"text-align: right;\">\n",
       "      <th></th>\n",
       "      <th>Height</th>\n",
       "    </tr>\n",
       "  </thead>\n",
       "  <tbody>\n",
       "    <tr>\n",
       "      <th>count</th>\n",
       "      <td>9.000000</td>\n",
       "    </tr>\n",
       "    <tr>\n",
       "      <th>mean</th>\n",
       "      <td>213.444444</td>\n",
       "    </tr>\n",
       "    <tr>\n",
       "      <th>std</th>\n",
       "      <td>21.564503</td>\n",
       "    </tr>\n",
       "    <tr>\n",
       "      <th>min</th>\n",
       "      <td>179.000000</td>\n",
       "    </tr>\n",
       "    <tr>\n",
       "      <th>25%</th>\n",
       "      <td>197.000000</td>\n",
       "    </tr>\n",
       "    <tr>\n",
       "      <th>50%</th>\n",
       "      <td>217.000000</td>\n",
       "    </tr>\n",
       "    <tr>\n",
       "      <th>75%</th>\n",
       "      <td>230.000000</td>\n",
       "    </tr>\n",
       "    <tr>\n",
       "      <th>max</th>\n",
       "      <td>241.000000</td>\n",
       "    </tr>\n",
       "  </tbody>\n",
       "</table>\n",
       "</div>"
      ],
      "text/plain": [
       "           Height\n",
       "count    9.000000\n",
       "mean   213.444444\n",
       "std     21.564503\n",
       "min    179.000000\n",
       "25%    197.000000\n",
       "50%    217.000000\n",
       "75%    230.000000\n",
       "max    241.000000"
      ]
     },
     "execution_count": 266,
     "metadata": {},
     "output_type": "execute_result"
    }
   ],
   "source": [
    "book_sales.describe()  #Description of the integer column"
   ]
  },
  {
   "cell_type": "code",
   "execution_count": 267,
   "metadata": {},
   "outputs": [
    {
     "name": "stdout",
     "output_type": "stream",
     "text": [
      "<class 'pandas.core.frame.DataFrame'>\n",
      "RangeIndex: 9 entries, 0 to 8\n",
      "Data columns (total 6 columns):\n",
      " #   Column     Non-Null Count  Dtype \n",
      "---  ------     --------------  ----- \n",
      " 0   Title      9 non-null      object\n",
      " 1   Author     9 non-null      object\n",
      " 2   Genre      9 non-null      object\n",
      " 3   Height     9 non-null      int64 \n",
      " 4   Publisher  9 non-null      object\n",
      " 5   Price      9 non-null      object\n",
      "dtypes: int64(1), object(5)\n",
      "memory usage: 560.0+ bytes\n"
     ]
    }
   ],
   "source": [
    "book_sales.info() # Index combined with dtypes"
   ]
  },
  {
   "cell_type": "code",
   "execution_count": 268,
   "metadata": {},
   "outputs": [
    {
     "name": "stderr",
     "output_type": "stream",
     "text": [
      "/var/folders/tg/lmwvqpj52v571r3rpp5rs_900000gn/T/ipykernel_79088/3437347453.py:1: FutureWarning: The default value of numeric_only in DataFrame.mean is deprecated. In a future version, it will default to False. In addition, specifying 'numeric_only=None' is deprecated. Select only valid columns or specify the value of numeric_only to silence this warning.\n",
      "  book_sales.mean() #Average of the int\n"
     ]
    },
    {
     "data": {
      "text/plain": [
       "Height    213.444444\n",
       "dtype: float64"
      ]
     },
     "execution_count": 268,
     "metadata": {},
     "output_type": "execute_result"
    }
   ],
   "source": [
    "book_sales.mean() #Average of the int"
   ]
  },
  {
   "cell_type": "code",
   "execution_count": 269,
   "metadata": {},
   "outputs": [
    {
     "data": {
      "text/plain": [
       "Title        Fundamentals of WaveletsData SmartGod Created ...\n",
       "Author       Goswami, JaidevaForeman, JohnHawking, StephenD...\n",
       "Genre        signal_processingdata_sciencemathematicseconom...\n",
       "Height                                                    1921\n",
       "Publisher    WileyWileyPenguinHarperCollinsPenguinSpringerO...\n",
       "Price        $4,000.00$5,000.00$7,000.00$22,000.00$3,500.00...\n",
       "dtype: object"
      ]
     },
     "execution_count": 269,
     "metadata": {},
     "output_type": "execute_result"
    }
   ],
   "source": [
    "book_sales.sum() #Like the Uniion of the every column"
   ]
  },
  {
   "cell_type": "code",
   "execution_count": 270,
   "metadata": {},
   "outputs": [
    {
     "data": {
      "text/plain": [
       "1921"
      ]
     },
     "execution_count": 270,
     "metadata": {},
     "output_type": "execute_result"
    }
   ],
   "source": [
    "book_sales[\"Height\"].sum() #For the specific sum of the column"
   ]
  },
  {
   "cell_type": "code",
   "execution_count": 271,
   "metadata": {},
   "outputs": [
    {
     "data": {
      "text/plain": [
       "9"
      ]
     },
     "execution_count": 271,
     "metadata": {},
     "output_type": "execute_result"
    }
   ],
   "source": [
    "len(book_sales)"
   ]
  },
  {
   "attachments": {},
   "cell_type": "markdown",
   "metadata": {},
   "source": [
    "Viewing and Selecting data: "
   ]
  },
  {
   "cell_type": "code",
   "execution_count": 307,
   "metadata": {},
   "outputs": [
    {
     "data": {
      "text/html": [
       "<div>\n",
       "<style scoped>\n",
       "    .dataframe tbody tr th:only-of-type {\n",
       "        vertical-align: middle;\n",
       "    }\n",
       "\n",
       "    .dataframe tbody tr th {\n",
       "        vertical-align: top;\n",
       "    }\n",
       "\n",
       "    .dataframe thead th {\n",
       "        text-align: right;\n",
       "    }\n",
       "</style>\n",
       "<table border=\"1\" class=\"dataframe\">\n",
       "  <thead>\n",
       "    <tr style=\"text-align: right;\">\n",
       "      <th></th>\n",
       "      <th>Title</th>\n",
       "      <th>Author</th>\n",
       "      <th>Genre</th>\n",
       "      <th>Height</th>\n",
       "      <th>Publisher</th>\n",
       "      <th>Price</th>\n",
       "    </tr>\n",
       "  </thead>\n",
       "  <tbody>\n",
       "    <tr>\n",
       "      <th>0</th>\n",
       "      <td>Fundamentals of Wavelets</td>\n",
       "      <td>Goswami, Jaideva</td>\n",
       "      <td>signal_processing</td>\n",
       "      <td>228</td>\n",
       "      <td>Wiley</td>\n",
       "      <td>$4,000.00</td>\n",
       "    </tr>\n",
       "    <tr>\n",
       "      <th>1</th>\n",
       "      <td>Data Smart</td>\n",
       "      <td>Foreman, John</td>\n",
       "      <td>data_science</td>\n",
       "      <td>235</td>\n",
       "      <td>Wiley</td>\n",
       "      <td>$5,000.00</td>\n",
       "    </tr>\n",
       "    <tr>\n",
       "      <th>2</th>\n",
       "      <td>God Created the Integers</td>\n",
       "      <td>Hawking, Stephen</td>\n",
       "      <td>mathematics</td>\n",
       "      <td>197</td>\n",
       "      <td>Penguin</td>\n",
       "      <td>$7,000.00</td>\n",
       "    </tr>\n",
       "    <tr>\n",
       "      <th>3</th>\n",
       "      <td>Superfreakonomics</td>\n",
       "      <td>Dubner, Stephen</td>\n",
       "      <td>economics</td>\n",
       "      <td>179</td>\n",
       "      <td>HarperCollins</td>\n",
       "      <td>$22,000.00</td>\n",
       "    </tr>\n",
       "    <tr>\n",
       "      <th>4</th>\n",
       "      <td>Orientalism</td>\n",
       "      <td>Said, Edward</td>\n",
       "      <td>history</td>\n",
       "      <td>197</td>\n",
       "      <td>Penguin</td>\n",
       "      <td>$3,500.00</td>\n",
       "    </tr>\n",
       "  </tbody>\n",
       "</table>\n",
       "</div>"
      ],
      "text/plain": [
       "                      Title            Author              Genre  Height  \\\n",
       "0  Fundamentals of Wavelets  Goswami, Jaideva  signal_processing     228   \n",
       "1                Data Smart     Foreman, John       data_science     235   \n",
       "2  God Created the Integers  Hawking, Stephen        mathematics     197   \n",
       "3         Superfreakonomics   Dubner, Stephen          economics     179   \n",
       "4               Orientalism      Said, Edward            history     197   \n",
       "\n",
       "       Publisher       Price  \n",
       "0          Wiley   $4,000.00  \n",
       "1          Wiley   $5,000.00  \n",
       "2        Penguin   $7,000.00  \n",
       "3  HarperCollins  $22,000.00  \n",
       "4        Penguin   $3,500.00  "
      ]
     },
     "execution_count": 307,
     "metadata": {},
     "output_type": "execute_result"
    }
   ],
   "source": [
    "book_sales.head()   #Returns the top 5 rows of the data. THis give a guick snapshot of the data"
   ]
  },
  {
   "cell_type": "code",
   "execution_count": 308,
   "metadata": {},
   "outputs": [
    {
     "data": {
      "text/html": [
       "<div>\n",
       "<style scoped>\n",
       "    .dataframe tbody tr th:only-of-type {\n",
       "        vertical-align: middle;\n",
       "    }\n",
       "\n",
       "    .dataframe tbody tr th {\n",
       "        vertical-align: top;\n",
       "    }\n",
       "\n",
       "    .dataframe thead th {\n",
       "        text-align: right;\n",
       "    }\n",
       "</style>\n",
       "<table border=\"1\" class=\"dataframe\">\n",
       "  <thead>\n",
       "    <tr style=\"text-align: right;\">\n",
       "      <th></th>\n",
       "      <th>Title</th>\n",
       "      <th>Author</th>\n",
       "      <th>Genre</th>\n",
       "      <th>Height</th>\n",
       "      <th>Publisher</th>\n",
       "      <th>Price</th>\n",
       "    </tr>\n",
       "  </thead>\n",
       "  <tbody>\n",
       "    <tr>\n",
       "      <th>0</th>\n",
       "      <td>Fundamentals of Wavelets</td>\n",
       "      <td>Goswami, Jaideva</td>\n",
       "      <td>signal_processing</td>\n",
       "      <td>228</td>\n",
       "      <td>Wiley</td>\n",
       "      <td>$4,000.00</td>\n",
       "    </tr>\n",
       "    <tr>\n",
       "      <th>1</th>\n",
       "      <td>Data Smart</td>\n",
       "      <td>Foreman, John</td>\n",
       "      <td>data_science</td>\n",
       "      <td>235</td>\n",
       "      <td>Wiley</td>\n",
       "      <td>$5,000.00</td>\n",
       "    </tr>\n",
       "    <tr>\n",
       "      <th>2</th>\n",
       "      <td>God Created the Integers</td>\n",
       "      <td>Hawking, Stephen</td>\n",
       "      <td>mathematics</td>\n",
       "      <td>197</td>\n",
       "      <td>Penguin</td>\n",
       "      <td>$7,000.00</td>\n",
       "    </tr>\n",
       "    <tr>\n",
       "      <th>3</th>\n",
       "      <td>Superfreakonomics</td>\n",
       "      <td>Dubner, Stephen</td>\n",
       "      <td>economics</td>\n",
       "      <td>179</td>\n",
       "      <td>HarperCollins</td>\n",
       "      <td>$22,000.00</td>\n",
       "    </tr>\n",
       "    <tr>\n",
       "      <th>4</th>\n",
       "      <td>Orientalism</td>\n",
       "      <td>Said, Edward</td>\n",
       "      <td>history</td>\n",
       "      <td>197</td>\n",
       "      <td>Penguin</td>\n",
       "      <td>$3,500.00</td>\n",
       "    </tr>\n",
       "    <tr>\n",
       "      <th>5</th>\n",
       "      <td>Nature of Statistical Learning Theory, The</td>\n",
       "      <td>Vapnik, Vladimir</td>\n",
       "      <td>data_science</td>\n",
       "      <td>230</td>\n",
       "      <td>Springer</td>\n",
       "      <td>$4,500.00</td>\n",
       "    </tr>\n",
       "    <tr>\n",
       "      <th>6</th>\n",
       "      <td>Integration of the Indian States</td>\n",
       "      <td>Menon, V P</td>\n",
       "      <td>history</td>\n",
       "      <td>217</td>\n",
       "      <td>Orient Blackswan</td>\n",
       "      <td>$7,500.00</td>\n",
       "    </tr>\n",
       "  </tbody>\n",
       "</table>\n",
       "</div>"
      ],
      "text/plain": [
       "                                        Title            Author  \\\n",
       "0                    Fundamentals of Wavelets  Goswami, Jaideva   \n",
       "1                                  Data Smart     Foreman, John   \n",
       "2                    God Created the Integers  Hawking, Stephen   \n",
       "3                           Superfreakonomics   Dubner, Stephen   \n",
       "4                                 Orientalism      Said, Edward   \n",
       "5  Nature of Statistical Learning Theory, The  Vapnik, Vladimir   \n",
       "6            Integration of the Indian States        Menon, V P   \n",
       "\n",
       "               Genre  Height         Publisher       Price  \n",
       "0  signal_processing     228             Wiley   $4,000.00  \n",
       "1       data_science     235             Wiley   $5,000.00  \n",
       "2        mathematics     197           Penguin   $7,000.00  \n",
       "3          economics     179     HarperCollins  $22,000.00  \n",
       "4            history     197           Penguin   $3,500.00  \n",
       "5       data_science     230          Springer   $4,500.00  \n",
       "6            history     217  Orient Blackswan   $7,500.00  "
      ]
     },
     "execution_count": 308,
     "metadata": {},
     "output_type": "execute_result"
    }
   ],
   "source": [
    "#INstead for n number of columns\n",
    "book_sales.head(7)"
   ]
  },
  {
   "cell_type": "code",
   "execution_count": 309,
   "metadata": {},
   "outputs": [
    {
     "data": {
      "text/html": [
       "<div>\n",
       "<style scoped>\n",
       "    .dataframe tbody tr th:only-of-type {\n",
       "        vertical-align: middle;\n",
       "    }\n",
       "\n",
       "    .dataframe tbody tr th {\n",
       "        vertical-align: top;\n",
       "    }\n",
       "\n",
       "    .dataframe thead th {\n",
       "        text-align: right;\n",
       "    }\n",
       "</style>\n",
       "<table border=\"1\" class=\"dataframe\">\n",
       "  <thead>\n",
       "    <tr style=\"text-align: right;\">\n",
       "      <th></th>\n",
       "      <th>Title</th>\n",
       "      <th>Author</th>\n",
       "      <th>Genre</th>\n",
       "      <th>Height</th>\n",
       "      <th>Publisher</th>\n",
       "      <th>Price</th>\n",
       "    </tr>\n",
       "  </thead>\n",
       "  <tbody>\n",
       "    <tr>\n",
       "      <th>4</th>\n",
       "      <td>Orientalism</td>\n",
       "      <td>Said, Edward</td>\n",
       "      <td>history</td>\n",
       "      <td>197</td>\n",
       "      <td>Penguin</td>\n",
       "      <td>$3,500.00</td>\n",
       "    </tr>\n",
       "    <tr>\n",
       "      <th>5</th>\n",
       "      <td>Nature of Statistical Learning Theory, The</td>\n",
       "      <td>Vapnik, Vladimir</td>\n",
       "      <td>data_science</td>\n",
       "      <td>230</td>\n",
       "      <td>Springer</td>\n",
       "      <td>$4,500.00</td>\n",
       "    </tr>\n",
       "    <tr>\n",
       "      <th>6</th>\n",
       "      <td>Integration of the Indian States</td>\n",
       "      <td>Menon, V P</td>\n",
       "      <td>history</td>\n",
       "      <td>217</td>\n",
       "      <td>Orient Blackswan</td>\n",
       "      <td>$7,500.00</td>\n",
       "    </tr>\n",
       "    <tr>\n",
       "      <th>7</th>\n",
       "      <td>Drunkard's Walk, The</td>\n",
       "      <td>Mlodinow, Leonard</td>\n",
       "      <td>science</td>\n",
       "      <td>197</td>\n",
       "      <td>Penguin</td>\n",
       "      <td>$7,000.00</td>\n",
       "    </tr>\n",
       "    <tr>\n",
       "      <th>8</th>\n",
       "      <td>Image Processing &amp; Mathematical Morphology</td>\n",
       "      <td>Shih, Frank</td>\n",
       "      <td>signal_processing</td>\n",
       "      <td>241</td>\n",
       "      <td>CRC</td>\n",
       "      <td>$6,250.00</td>\n",
       "    </tr>\n",
       "  </tbody>\n",
       "</table>\n",
       "</div>"
      ],
      "text/plain": [
       "                                        Title             Author  \\\n",
       "4                                 Orientalism       Said, Edward   \n",
       "5  Nature of Statistical Learning Theory, The   Vapnik, Vladimir   \n",
       "6            Integration of the Indian States         Menon, V P   \n",
       "7                        Drunkard's Walk, The  Mlodinow, Leonard   \n",
       "8  Image Processing & Mathematical Morphology        Shih, Frank   \n",
       "\n",
       "               Genre  Height         Publisher      Price  \n",
       "4            history     197           Penguin  $3,500.00  \n",
       "5       data_science     230          Springer  $4,500.00  \n",
       "6            history     217  Orient Blackswan  $7,500.00  \n",
       "7            science     197           Penguin  $7,000.00  \n",
       "8  signal_processing     241               CRC  $6,250.00  "
      ]
     },
     "execution_count": 309,
     "metadata": {},
     "output_type": "execute_result"
    }
   ],
   "source": [
    "# For bottom \n",
    "book_sales.tail()  #other all same as head()"
   ]
  },
  {
   "cell_type": "code",
   "execution_count": 167,
   "metadata": {},
   "outputs": [
    {
     "data": {
      "text/plain": [
       "0        rose\n",
       "1    marigold\n",
       "2       lotus\n",
       "3         dfg\n",
       "dtype: object"
      ]
     },
     "execution_count": 167,
     "metadata": {},
     "output_type": "execute_result"
    }
   ],
   "source": [
    "# .loc & .iloc\n",
    "# loc is like a location/index \n",
    "# iloc refers to position\n",
    "\n",
    "flowers=pd.Series([\"rose\",\"marigold\",\"lotus\",\"dfg\"])\n",
    "flowers\n",
    "\n"
   ]
  },
  {
   "attachments": {},
   "cell_type": "markdown",
   "metadata": {},
   "source": [
    ".LOC (Index)"
   ]
  },
  {
   "cell_type": "code",
   "execution_count": 168,
   "metadata": {},
   "outputs": [
    {
     "data": {
      "text/plain": [
       "'lotus'"
      ]
     },
     "execution_count": 168,
     "metadata": {},
     "output_type": "execute_result"
    }
   ],
   "source": [
    "\n",
    "flowers.loc[2] "
   ]
  },
  {
   "cell_type": "code",
   "execution_count": 169,
   "metadata": {},
   "outputs": [
    {
     "data": {
      "text/plain": [
       "2        rose\n",
       "5    marigold\n",
       "7       lotus\n",
       "1         dfg\n",
       "dtype: object"
      ]
     },
     "execution_count": 169,
     "metadata": {},
     "output_type": "execute_result"
    }
   ],
   "source": [
    "#Also for specific indexing of the flowers:\n",
    "flowers=pd.Series([\"rose\",\"marigold\",\"lotus\",\"dfg\"],index=[2,5,7,1])\n",
    "flowers"
   ]
  },
  {
   "cell_type": "code",
   "execution_count": 170,
   "metadata": {},
   "outputs": [
    {
     "data": {
      "text/plain": [
       "'lotus'"
      ]
     },
     "execution_count": 170,
     "metadata": {},
     "output_type": "execute_result"
    }
   ],
   "source": [
    "flowers.loc[7]"
   ]
  },
  {
   "cell_type": "markdown",
   "metadata": {},
   "source": [
    "#Trying in books sale files"
   ]
  },
  {
   "cell_type": "code",
   "execution_count": 310,
   "metadata": {},
   "outputs": [
    {
     "data": {
      "text/plain": [
       "Title        Superfreakonomics\n",
       "Author         Dubner, Stephen\n",
       "Genre                economics\n",
       "Height                     179\n",
       "Publisher        HarperCollins\n",
       "Price               $22,000.00\n",
       "Name: 3, dtype: object"
      ]
     },
     "execution_count": 310,
     "metadata": {},
     "output_type": "execute_result"
    }
   ],
   "source": [
    "book_sales.loc[3] #Data of the location/index 3"
   ]
  },
  {
   "attachments": {},
   "cell_type": "markdown",
   "metadata": {},
   "source": [
    ".ILOC (positon)"
   ]
  },
  {
   "cell_type": "code",
   "execution_count": 276,
   "metadata": {},
   "outputs": [
    {
     "data": {
      "text/plain": [
       "Title        Superfreakonomics\n",
       "Author         Dubner, Stephen\n",
       "Genre                economics\n",
       "Height                     179\n",
       "Publisher        HarperCollins\n",
       "Price               $22,000.00\n",
       "Name: 3, dtype: object"
      ]
     },
     "execution_count": 276,
     "metadata": {},
     "output_type": "execute_result"
    }
   ],
   "source": [
    "book_sales.iloc[3]"
   ]
  },
  {
   "cell_type": "code",
   "execution_count": 173,
   "metadata": {},
   "outputs": [
    {
     "data": {
      "text/plain": [
       "'lotus'"
      ]
     },
     "execution_count": 173,
     "metadata": {},
     "output_type": "execute_result"
    }
   ],
   "source": [
    "flowers.iloc[2]  #actual position not the specific indexed position"
   ]
  },
  {
   "attachments": {},
   "cell_type": "markdown",
   "metadata": {},
   "source": [
    "Slicing of loc and iloc:"
   ]
  },
  {
   "cell_type": "code",
   "execution_count": 277,
   "metadata": {},
   "outputs": [
    {
     "data": {
      "text/html": [
       "<div>\n",
       "<style scoped>\n",
       "    .dataframe tbody tr th:only-of-type {\n",
       "        vertical-align: middle;\n",
       "    }\n",
       "\n",
       "    .dataframe tbody tr th {\n",
       "        vertical-align: top;\n",
       "    }\n",
       "\n",
       "    .dataframe thead th {\n",
       "        text-align: right;\n",
       "    }\n",
       "</style>\n",
       "<table border=\"1\" class=\"dataframe\">\n",
       "  <thead>\n",
       "    <tr style=\"text-align: right;\">\n",
       "      <th></th>\n",
       "      <th>Title</th>\n",
       "      <th>Author</th>\n",
       "      <th>Genre</th>\n",
       "      <th>Height</th>\n",
       "      <th>Publisher</th>\n",
       "      <th>Price</th>\n",
       "    </tr>\n",
       "  </thead>\n",
       "  <tbody>\n",
       "    <tr>\n",
       "      <th>0</th>\n",
       "      <td>Fundamentals of Wavelets</td>\n",
       "      <td>Goswami, Jaideva</td>\n",
       "      <td>signal_processing</td>\n",
       "      <td>228</td>\n",
       "      <td>Wiley</td>\n",
       "      <td>$4,000.00</td>\n",
       "    </tr>\n",
       "    <tr>\n",
       "      <th>1</th>\n",
       "      <td>Data Smart</td>\n",
       "      <td>Foreman, John</td>\n",
       "      <td>data_science</td>\n",
       "      <td>235</td>\n",
       "      <td>Wiley</td>\n",
       "      <td>$5,000.00</td>\n",
       "    </tr>\n",
       "    <tr>\n",
       "      <th>2</th>\n",
       "      <td>God Created the Integers</td>\n",
       "      <td>Hawking, Stephen</td>\n",
       "      <td>mathematics</td>\n",
       "      <td>197</td>\n",
       "      <td>Penguin</td>\n",
       "      <td>$7,000.00</td>\n",
       "    </tr>\n",
       "  </tbody>\n",
       "</table>\n",
       "</div>"
      ],
      "text/plain": [
       "                      Title            Author              Genre  Height  \\\n",
       "0  Fundamentals of Wavelets  Goswami, Jaideva  signal_processing     228   \n",
       "1                Data Smart     Foreman, John       data_science     235   \n",
       "2  God Created the Integers  Hawking, Stephen        mathematics     197   \n",
       "\n",
       "  Publisher      Price  \n",
       "0     Wiley  $4,000.00  \n",
       "1     Wiley  $5,000.00  \n",
       "2   Penguin  $7,000.00  "
      ]
     },
     "execution_count": 277,
     "metadata": {},
     "output_type": "execute_result"
    }
   ],
   "source": [
    "book_sales.iloc[:3]  #Ranges from 0-2"
   ]
  },
  {
   "cell_type": "code",
   "execution_count": 278,
   "metadata": {},
   "outputs": [
    {
     "data": {
      "text/html": [
       "<div>\n",
       "<style scoped>\n",
       "    .dataframe tbody tr th:only-of-type {\n",
       "        vertical-align: middle;\n",
       "    }\n",
       "\n",
       "    .dataframe tbody tr th {\n",
       "        vertical-align: top;\n",
       "    }\n",
       "\n",
       "    .dataframe thead th {\n",
       "        text-align: right;\n",
       "    }\n",
       "</style>\n",
       "<table border=\"1\" class=\"dataframe\">\n",
       "  <thead>\n",
       "    <tr style=\"text-align: right;\">\n",
       "      <th></th>\n",
       "      <th>Title</th>\n",
       "      <th>Author</th>\n",
       "      <th>Genre</th>\n",
       "      <th>Height</th>\n",
       "      <th>Publisher</th>\n",
       "      <th>Price</th>\n",
       "    </tr>\n",
       "  </thead>\n",
       "  <tbody>\n",
       "    <tr>\n",
       "      <th>0</th>\n",
       "      <td>Fundamentals of Wavelets</td>\n",
       "      <td>Goswami, Jaideva</td>\n",
       "      <td>signal_processing</td>\n",
       "      <td>228</td>\n",
       "      <td>Wiley</td>\n",
       "      <td>$4,000.00</td>\n",
       "    </tr>\n",
       "    <tr>\n",
       "      <th>1</th>\n",
       "      <td>Data Smart</td>\n",
       "      <td>Foreman, John</td>\n",
       "      <td>data_science</td>\n",
       "      <td>235</td>\n",
       "      <td>Wiley</td>\n",
       "      <td>$5,000.00</td>\n",
       "    </tr>\n",
       "    <tr>\n",
       "      <th>2</th>\n",
       "      <td>God Created the Integers</td>\n",
       "      <td>Hawking, Stephen</td>\n",
       "      <td>mathematics</td>\n",
       "      <td>197</td>\n",
       "      <td>Penguin</td>\n",
       "      <td>$7,000.00</td>\n",
       "    </tr>\n",
       "    <tr>\n",
       "      <th>3</th>\n",
       "      <td>Superfreakonomics</td>\n",
       "      <td>Dubner, Stephen</td>\n",
       "      <td>economics</td>\n",
       "      <td>179</td>\n",
       "      <td>HarperCollins</td>\n",
       "      <td>$22,000.00</td>\n",
       "    </tr>\n",
       "  </tbody>\n",
       "</table>\n",
       "</div>"
      ],
      "text/plain": [
       "                      Title            Author              Genre  Height  \\\n",
       "0  Fundamentals of Wavelets  Goswami, Jaideva  signal_processing     228   \n",
       "1                Data Smart     Foreman, John       data_science     235   \n",
       "2  God Created the Integers  Hawking, Stephen        mathematics     197   \n",
       "3         Superfreakonomics   Dubner, Stephen          economics     179   \n",
       "\n",
       "       Publisher       Price  \n",
       "0          Wiley   $4,000.00  \n",
       "1          Wiley   $5,000.00  \n",
       "2        Penguin   $7,000.00  \n",
       "3  HarperCollins  $22,000.00  "
      ]
     },
     "execution_count": 278,
     "metadata": {},
     "output_type": "execute_result"
    }
   ],
   "source": [
    "book_sales.loc[:3]  #Ranges from 0-3"
   ]
  },
  {
   "cell_type": "code",
   "execution_count": 279,
   "metadata": {},
   "outputs": [
    {
     "data": {
      "text/plain": [
       "0                      Fundamentals of Wavelets\n",
       "1                                    Data Smart\n",
       "2                      God Created the Integers\n",
       "3                             Superfreakonomics\n",
       "4                                   Orientalism\n",
       "5    Nature of Statistical Learning Theory, The\n",
       "6              Integration of the Indian States\n",
       "7                          Drunkard's Walk, The\n",
       "8    Image Processing & Mathematical Morphology\n",
       "Name: Title, dtype: object"
      ]
     },
     "execution_count": 279,
     "metadata": {},
     "output_type": "execute_result"
    }
   ],
   "source": [
    "book_sales[\"Title\"]  #book_sales.Title both are same thing , "
   ]
  },
  {
   "cell_type": "code",
   "execution_count": 280,
   "metadata": {},
   "outputs": [
    {
     "data": {
      "text/plain": [
       "0                      Fundamentals of Wavelets\n",
       "1                                    Data Smart\n",
       "2                      God Created the Integers\n",
       "3                             Superfreakonomics\n",
       "4                                   Orientalism\n",
       "5    Nature of Statistical Learning Theory, The\n",
       "6              Integration of the Indian States\n",
       "7                          Drunkard's Walk, The\n",
       "8    Image Processing & Mathematical Morphology\n",
       "Name: Title, dtype: object"
      ]
     },
     "execution_count": 280,
     "metadata": {},
     "output_type": "execute_result"
    }
   ],
   "source": [
    "book_sales.Title    #but real difference is column name shouldn't have space "
   ]
  },
  {
   "cell_type": "code",
   "execution_count": 281,
   "metadata": {},
   "outputs": [
    {
     "data": {
      "text/html": [
       "<div>\n",
       "<style scoped>\n",
       "    .dataframe tbody tr th:only-of-type {\n",
       "        vertical-align: middle;\n",
       "    }\n",
       "\n",
       "    .dataframe tbody tr th {\n",
       "        vertical-align: top;\n",
       "    }\n",
       "\n",
       "    .dataframe thead th {\n",
       "        text-align: right;\n",
       "    }\n",
       "</style>\n",
       "<table border=\"1\" class=\"dataframe\">\n",
       "  <thead>\n",
       "    <tr style=\"text-align: right;\">\n",
       "      <th></th>\n",
       "      <th>Title</th>\n",
       "      <th>Author</th>\n",
       "      <th>Genre</th>\n",
       "      <th>Height</th>\n",
       "      <th>Publisher</th>\n",
       "      <th>Price</th>\n",
       "    </tr>\n",
       "  </thead>\n",
       "  <tbody>\n",
       "    <tr>\n",
       "      <th>4</th>\n",
       "      <td>Orientalism</td>\n",
       "      <td>Said, Edward</td>\n",
       "      <td>history</td>\n",
       "      <td>197</td>\n",
       "      <td>Penguin</td>\n",
       "      <td>$3,500.00</td>\n",
       "    </tr>\n",
       "    <tr>\n",
       "      <th>6</th>\n",
       "      <td>Integration of the Indian States</td>\n",
       "      <td>Menon, V P</td>\n",
       "      <td>history</td>\n",
       "      <td>217</td>\n",
       "      <td>Orient Blackswan</td>\n",
       "      <td>$7,500.00</td>\n",
       "    </tr>\n",
       "  </tbody>\n",
       "</table>\n",
       "</div>"
      ],
      "text/plain": [
       "                              Title        Author    Genre  Height  \\\n",
       "4                       Orientalism  Said, Edward  history     197   \n",
       "6  Integration of the Indian States    Menon, V P  history     217   \n",
       "\n",
       "          Publisher      Price  \n",
       "4           Penguin  $3,500.00  \n",
       "6  Orient Blackswan  $7,500.00  "
      ]
     },
     "execution_count": 281,
     "metadata": {},
     "output_type": "execute_result"
    }
   ],
   "source": [
    "book_sales[book_sales[\"Genre\"]==\"history\"]  #Getting the data of specific Genre . Its like searching"
   ]
  },
  {
   "cell_type": "code",
   "execution_count": 282,
   "metadata": {},
   "outputs": [
    {
     "data": {
      "text/html": [
       "<div>\n",
       "<style scoped>\n",
       "    .dataframe tbody tr th:only-of-type {\n",
       "        vertical-align: middle;\n",
       "    }\n",
       "\n",
       "    .dataframe tbody tr th {\n",
       "        vertical-align: top;\n",
       "    }\n",
       "\n",
       "    .dataframe thead th {\n",
       "        text-align: right;\n",
       "    }\n",
       "</style>\n",
       "<table border=\"1\" class=\"dataframe\">\n",
       "  <thead>\n",
       "    <tr style=\"text-align: right;\">\n",
       "      <th></th>\n",
       "      <th>Title</th>\n",
       "      <th>Author</th>\n",
       "      <th>Genre</th>\n",
       "      <th>Height</th>\n",
       "      <th>Publisher</th>\n",
       "      <th>Price</th>\n",
       "    </tr>\n",
       "  </thead>\n",
       "  <tbody>\n",
       "    <tr>\n",
       "      <th>2</th>\n",
       "      <td>God Created the Integers</td>\n",
       "      <td>Hawking, Stephen</td>\n",
       "      <td>mathematics</td>\n",
       "      <td>197</td>\n",
       "      <td>Penguin</td>\n",
       "      <td>$7,000.00</td>\n",
       "    </tr>\n",
       "    <tr>\n",
       "      <th>4</th>\n",
       "      <td>Orientalism</td>\n",
       "      <td>Said, Edward</td>\n",
       "      <td>history</td>\n",
       "      <td>197</td>\n",
       "      <td>Penguin</td>\n",
       "      <td>$3,500.00</td>\n",
       "    </tr>\n",
       "    <tr>\n",
       "      <th>7</th>\n",
       "      <td>Drunkard's Walk, The</td>\n",
       "      <td>Mlodinow, Leonard</td>\n",
       "      <td>science</td>\n",
       "      <td>197</td>\n",
       "      <td>Penguin</td>\n",
       "      <td>$7,000.00</td>\n",
       "    </tr>\n",
       "  </tbody>\n",
       "</table>\n",
       "</div>"
      ],
      "text/plain": [
       "                      Title             Author        Genre  Height Publisher  \\\n",
       "2  God Created the Integers   Hawking, Stephen  mathematics     197   Penguin   \n",
       "4               Orientalism       Said, Edward      history     197   Penguin   \n",
       "7      Drunkard's Walk, The  Mlodinow, Leonard      science     197   Penguin   \n",
       "\n",
       "       Price  \n",
       "2  $7,000.00  \n",
       "4  $3,500.00  \n",
       "7  $7,000.00  "
      ]
     },
     "execution_count": 282,
     "metadata": {},
     "output_type": "execute_result"
    }
   ],
   "source": [
    "book_sales[book_sales[\"Height\"]==197]   #Getting the data of specific Height"
   ]
  },
  {
   "cell_type": "code",
   "execution_count": 311,
   "metadata": {},
   "outputs": [
    {
     "data": {
      "text/html": [
       "<div>\n",
       "<style scoped>\n",
       "    .dataframe tbody tr th:only-of-type {\n",
       "        vertical-align: middle;\n",
       "    }\n",
       "\n",
       "    .dataframe tbody tr th {\n",
       "        vertical-align: top;\n",
       "    }\n",
       "\n",
       "    .dataframe thead th {\n",
       "        text-align: right;\n",
       "    }\n",
       "</style>\n",
       "<table border=\"1\" class=\"dataframe\">\n",
       "  <thead>\n",
       "    <tr style=\"text-align: right;\">\n",
       "      <th></th>\n",
       "      <th>Title</th>\n",
       "      <th>Author</th>\n",
       "      <th>Genre</th>\n",
       "      <th>Height</th>\n",
       "      <th>Publisher</th>\n",
       "      <th>Price</th>\n",
       "    </tr>\n",
       "  </thead>\n",
       "  <tbody>\n",
       "    <tr>\n",
       "      <th>0</th>\n",
       "      <td>Fundamentals of Wavelets</td>\n",
       "      <td>Goswami, Jaideva</td>\n",
       "      <td>signal_processing</td>\n",
       "      <td>228</td>\n",
       "      <td>Wiley</td>\n",
       "      <td>$4,000.00</td>\n",
       "    </tr>\n",
       "    <tr>\n",
       "      <th>1</th>\n",
       "      <td>Data Smart</td>\n",
       "      <td>Foreman, John</td>\n",
       "      <td>data_science</td>\n",
       "      <td>235</td>\n",
       "      <td>Wiley</td>\n",
       "      <td>$5,000.00</td>\n",
       "    </tr>\n",
       "    <tr>\n",
       "      <th>5</th>\n",
       "      <td>Nature of Statistical Learning Theory, The</td>\n",
       "      <td>Vapnik, Vladimir</td>\n",
       "      <td>data_science</td>\n",
       "      <td>230</td>\n",
       "      <td>Springer</td>\n",
       "      <td>$4,500.00</td>\n",
       "    </tr>\n",
       "    <tr>\n",
       "      <th>6</th>\n",
       "      <td>Integration of the Indian States</td>\n",
       "      <td>Menon, V P</td>\n",
       "      <td>history</td>\n",
       "      <td>217</td>\n",
       "      <td>Orient Blackswan</td>\n",
       "      <td>$7,500.00</td>\n",
       "    </tr>\n",
       "    <tr>\n",
       "      <th>8</th>\n",
       "      <td>Image Processing &amp; Mathematical Morphology</td>\n",
       "      <td>Shih, Frank</td>\n",
       "      <td>signal_processing</td>\n",
       "      <td>241</td>\n",
       "      <td>CRC</td>\n",
       "      <td>$6,250.00</td>\n",
       "    </tr>\n",
       "  </tbody>\n",
       "</table>\n",
       "</div>"
      ],
      "text/plain": [
       "                                        Title            Author  \\\n",
       "0                    Fundamentals of Wavelets  Goswami, Jaideva   \n",
       "1                                  Data Smart     Foreman, John   \n",
       "5  Nature of Statistical Learning Theory, The  Vapnik, Vladimir   \n",
       "6            Integration of the Indian States        Menon, V P   \n",
       "8  Image Processing & Mathematical Morphology       Shih, Frank   \n",
       "\n",
       "               Genre  Height         Publisher      Price  \n",
       "0  signal_processing     228             Wiley  $4,000.00  \n",
       "1       data_science     235             Wiley  $5,000.00  \n",
       "5       data_science     230          Springer  $4,500.00  \n",
       "6            history     217  Orient Blackswan  $7,500.00  \n",
       "8  signal_processing     241               CRC  $6,250.00  "
      ]
     },
     "execution_count": 311,
     "metadata": {},
     "output_type": "execute_result"
    }
   ],
   "source": [
    "book_sales[book_sales[\"Height\"]>200] "
   ]
  },
  {
   "cell_type": "code",
   "execution_count": 286,
   "metadata": {},
   "outputs": [
    {
     "data": {
      "text/html": [
       "<div>\n",
       "<style scoped>\n",
       "    .dataframe tbody tr th:only-of-type {\n",
       "        vertical-align: middle;\n",
       "    }\n",
       "\n",
       "    .dataframe tbody tr th {\n",
       "        vertical-align: top;\n",
       "    }\n",
       "\n",
       "    .dataframe thead th {\n",
       "        text-align: right;\n",
       "    }\n",
       "</style>\n",
       "<table border=\"1\" class=\"dataframe\">\n",
       "  <thead>\n",
       "    <tr style=\"text-align: right;\">\n",
       "      <th>Height</th>\n",
       "      <th>179</th>\n",
       "      <th>197</th>\n",
       "      <th>217</th>\n",
       "      <th>228</th>\n",
       "      <th>230</th>\n",
       "      <th>235</th>\n",
       "      <th>241</th>\n",
       "    </tr>\n",
       "    <tr>\n",
       "      <th>Title</th>\n",
       "      <th></th>\n",
       "      <th></th>\n",
       "      <th></th>\n",
       "      <th></th>\n",
       "      <th></th>\n",
       "      <th></th>\n",
       "      <th></th>\n",
       "    </tr>\n",
       "  </thead>\n",
       "  <tbody>\n",
       "    <tr>\n",
       "      <th>Data Smart</th>\n",
       "      <td>0</td>\n",
       "      <td>0</td>\n",
       "      <td>0</td>\n",
       "      <td>0</td>\n",
       "      <td>0</td>\n",
       "      <td>1</td>\n",
       "      <td>0</td>\n",
       "    </tr>\n",
       "    <tr>\n",
       "      <th>Drunkard's Walk, The</th>\n",
       "      <td>0</td>\n",
       "      <td>1</td>\n",
       "      <td>0</td>\n",
       "      <td>0</td>\n",
       "      <td>0</td>\n",
       "      <td>0</td>\n",
       "      <td>0</td>\n",
       "    </tr>\n",
       "    <tr>\n",
       "      <th>Fundamentals of Wavelets</th>\n",
       "      <td>0</td>\n",
       "      <td>0</td>\n",
       "      <td>0</td>\n",
       "      <td>1</td>\n",
       "      <td>0</td>\n",
       "      <td>0</td>\n",
       "      <td>0</td>\n",
       "    </tr>\n",
       "    <tr>\n",
       "      <th>God Created the Integers</th>\n",
       "      <td>0</td>\n",
       "      <td>1</td>\n",
       "      <td>0</td>\n",
       "      <td>0</td>\n",
       "      <td>0</td>\n",
       "      <td>0</td>\n",
       "      <td>0</td>\n",
       "    </tr>\n",
       "    <tr>\n",
       "      <th>Image Processing &amp; Mathematical Morphology</th>\n",
       "      <td>0</td>\n",
       "      <td>0</td>\n",
       "      <td>0</td>\n",
       "      <td>0</td>\n",
       "      <td>0</td>\n",
       "      <td>0</td>\n",
       "      <td>1</td>\n",
       "    </tr>\n",
       "    <tr>\n",
       "      <th>Integration of the Indian States</th>\n",
       "      <td>0</td>\n",
       "      <td>0</td>\n",
       "      <td>1</td>\n",
       "      <td>0</td>\n",
       "      <td>0</td>\n",
       "      <td>0</td>\n",
       "      <td>0</td>\n",
       "    </tr>\n",
       "    <tr>\n",
       "      <th>Nature of Statistical Learning Theory, The</th>\n",
       "      <td>0</td>\n",
       "      <td>0</td>\n",
       "      <td>0</td>\n",
       "      <td>0</td>\n",
       "      <td>1</td>\n",
       "      <td>0</td>\n",
       "      <td>0</td>\n",
       "    </tr>\n",
       "    <tr>\n",
       "      <th>Orientalism</th>\n",
       "      <td>0</td>\n",
       "      <td>1</td>\n",
       "      <td>0</td>\n",
       "      <td>0</td>\n",
       "      <td>0</td>\n",
       "      <td>0</td>\n",
       "      <td>0</td>\n",
       "    </tr>\n",
       "    <tr>\n",
       "      <th>Superfreakonomics</th>\n",
       "      <td>1</td>\n",
       "      <td>0</td>\n",
       "      <td>0</td>\n",
       "      <td>0</td>\n",
       "      <td>0</td>\n",
       "      <td>0</td>\n",
       "      <td>0</td>\n",
       "    </tr>\n",
       "  </tbody>\n",
       "</table>\n",
       "</div>"
      ],
      "text/plain": [
       "Height                                      179  197  217  228  230  235  241\n",
       "Title                                                                        \n",
       "Data Smart                                    0    0    0    0    0    1    0\n",
       "Drunkard's Walk, The                          0    1    0    0    0    0    0\n",
       "Fundamentals of Wavelets                      0    0    0    1    0    0    0\n",
       "God Created the Integers                      0    1    0    0    0    0    0\n",
       "Image Processing & Mathematical Morphology    0    0    0    0    0    0    1\n",
       "Integration of the Indian States              0    0    1    0    0    0    0\n",
       "Nature of Statistical Learning Theory, The    0    0    0    0    1    0    0\n",
       "Orientalism                                   0    1    0    0    0    0    0\n",
       "Superfreakonomics                             1    0    0    0    0    0    0"
      ]
     },
     "execution_count": 286,
     "metadata": {},
     "output_type": "execute_result"
    }
   ],
   "source": [
    "#Kind of aggragating taken two columns\n",
    "pd.crosstab(book_sales[\"Title\"],book_sales[\"Height\"])   "
   ]
  },
  {
   "cell_type": "code",
   "execution_count": 287,
   "metadata": {},
   "outputs": [
    {
     "name": "stderr",
     "output_type": "stream",
     "text": [
      "/var/folders/tg/lmwvqpj52v571r3rpp5rs_900000gn/T/ipykernel_79088/1999035529.py:2: FutureWarning: The default value of numeric_only in DataFrameGroupBy.mean is deprecated. In a future version, numeric_only will default to False. Either specify numeric_only or select only columns which should be valid for the function.\n",
      "  book_sales.groupby([\"Title\",\"Genre\"]).mean()    #Mean values of the numeric values with the taken column\n"
     ]
    },
    {
     "data": {
      "text/html": [
       "<div>\n",
       "<style scoped>\n",
       "    .dataframe tbody tr th:only-of-type {\n",
       "        vertical-align: middle;\n",
       "    }\n",
       "\n",
       "    .dataframe tbody tr th {\n",
       "        vertical-align: top;\n",
       "    }\n",
       "\n",
       "    .dataframe thead th {\n",
       "        text-align: right;\n",
       "    }\n",
       "</style>\n",
       "<table border=\"1\" class=\"dataframe\">\n",
       "  <thead>\n",
       "    <tr style=\"text-align: right;\">\n",
       "      <th></th>\n",
       "      <th></th>\n",
       "      <th>Height</th>\n",
       "    </tr>\n",
       "    <tr>\n",
       "      <th>Title</th>\n",
       "      <th>Genre</th>\n",
       "      <th></th>\n",
       "    </tr>\n",
       "  </thead>\n",
       "  <tbody>\n",
       "    <tr>\n",
       "      <th>Data Smart</th>\n",
       "      <th>data_science</th>\n",
       "      <td>235.0</td>\n",
       "    </tr>\n",
       "    <tr>\n",
       "      <th>Drunkard's Walk, The</th>\n",
       "      <th>science</th>\n",
       "      <td>197.0</td>\n",
       "    </tr>\n",
       "    <tr>\n",
       "      <th>Fundamentals of Wavelets</th>\n",
       "      <th>signal_processing</th>\n",
       "      <td>228.0</td>\n",
       "    </tr>\n",
       "    <tr>\n",
       "      <th>God Created the Integers</th>\n",
       "      <th>mathematics</th>\n",
       "      <td>197.0</td>\n",
       "    </tr>\n",
       "    <tr>\n",
       "      <th>Image Processing &amp; Mathematical Morphology</th>\n",
       "      <th>signal_processing</th>\n",
       "      <td>241.0</td>\n",
       "    </tr>\n",
       "    <tr>\n",
       "      <th>Integration of the Indian States</th>\n",
       "      <th>history</th>\n",
       "      <td>217.0</td>\n",
       "    </tr>\n",
       "    <tr>\n",
       "      <th>Nature of Statistical Learning Theory, The</th>\n",
       "      <th>data_science</th>\n",
       "      <td>230.0</td>\n",
       "    </tr>\n",
       "    <tr>\n",
       "      <th>Orientalism</th>\n",
       "      <th>history</th>\n",
       "      <td>197.0</td>\n",
       "    </tr>\n",
       "    <tr>\n",
       "      <th>Superfreakonomics</th>\n",
       "      <th>economics</th>\n",
       "      <td>179.0</td>\n",
       "    </tr>\n",
       "  </tbody>\n",
       "</table>\n",
       "</div>"
      ],
      "text/plain": [
       "                                                              Height\n",
       "Title                                      Genre                    \n",
       "Data Smart                                 data_science        235.0\n",
       "Drunkard's Walk, The                       science             197.0\n",
       "Fundamentals of Wavelets                   signal_processing   228.0\n",
       "God Created the Integers                   mathematics         197.0\n",
       "Image Processing & Mathematical Morphology signal_processing   241.0\n",
       "Integration of the Indian States           history             217.0\n",
       "Nature of Statistical Learning Theory, The data_science        230.0\n",
       "Orientalism                                history             197.0\n",
       "Superfreakonomics                          economics           179.0"
      ]
     },
     "execution_count": 287,
     "metadata": {},
     "output_type": "execute_result"
    }
   ],
   "source": [
    "#For multiple columns i.e #Groupby\n",
    "book_sales.groupby([\"Title\",\"Genre\"]).mean()    #Mean values of the numeric values with the taken column "
   ]
  },
  {
   "attachments": {},
   "cell_type": "markdown",
   "metadata": {},
   "source": [
    "#Visualization:"
   ]
  },
  {
   "cell_type": "code",
   "execution_count": 288,
   "metadata": {},
   "outputs": [
    {
     "data": {
      "text/plain": [
       "<AxesSubplot: >"
      ]
     },
     "execution_count": 288,
     "metadata": {},
     "output_type": "execute_result"
    },
    {
     "data": {
      "image/png": "[encoded data removed]",
      "text/plain": [
       "<Figure size 640x480 with 1 Axes>"
      ]
     },
     "metadata": {},
     "output_type": "display_data"
    }
   ],
   "source": [
    "\n",
    "book_sales[\"Height\"].plot()"
   ]
  },
  {
   "cell_type": "code",
   "execution_count": 315,
   "metadata": {},
   "outputs": [
    {
     "data": {
      "text/plain": [
       "<AxesSubplot: >"
      ]
     },
     "execution_count": 315,
     "metadata": {},
     "output_type": "execute_result"
    },
    {
     "data": {
      "image/png": "[encoded data removed]",
      "text/plain": [
       "<Figure size 640x480 with 1 Axes>"
      ]
     },
     "metadata": {},
     "output_type": "display_data"
    }
   ],
   "source": [
    "book_sales[\"Height\"].hist() #Histogram\n",
    "#average and outliners\n"
   ]
  },
  {
   "cell_type": "code",
   "execution_count": 386,
   "metadata": {},
   "outputs": [
    {
     "data": {
      "text/html": [
       "<div>\n",
       "<style scoped>\n",
       "    .dataframe tbody tr th:only-of-type {\n",
       "        vertical-align: middle;\n",
       "    }\n",
       "\n",
       "    .dataframe tbody tr th {\n",
       "        vertical-align: top;\n",
       "    }\n",
       "\n",
       "    .dataframe thead th {\n",
       "        text-align: right;\n",
       "    }\n",
       "</style>\n",
       "<table border=\"1\" class=\"dataframe\">\n",
       "  <thead>\n",
       "    <tr style=\"text-align: right;\">\n",
       "      <th></th>\n",
       "      <th>Title</th>\n",
       "      <th>Author</th>\n",
       "      <th>Genre</th>\n",
       "      <th>Height</th>\n",
       "      <th>Publisher</th>\n",
       "      <th>Price</th>\n",
       "    </tr>\n",
       "  </thead>\n",
       "  <tbody>\n",
       "    <tr>\n",
       "      <th>0</th>\n",
       "      <td>Fundamentals of Wavelets</td>\n",
       "      <td>Goswami, Jaideva</td>\n",
       "      <td>signal_processing</td>\n",
       "      <td>228</td>\n",
       "      <td>Wiley</td>\n",
       "      <td>$4,000.00</td>\n",
       "    </tr>\n",
       "    <tr>\n",
       "      <th>1</th>\n",
       "      <td>Data Smart</td>\n",
       "      <td>Foreman, John</td>\n",
       "      <td>data_science</td>\n",
       "      <td>235</td>\n",
       "      <td>Wiley</td>\n",
       "      <td>$5,000.00</td>\n",
       "    </tr>\n",
       "    <tr>\n",
       "      <th>2</th>\n",
       "      <td>God Created the Integers</td>\n",
       "      <td>Hawking, Stephen</td>\n",
       "      <td>mathematics</td>\n",
       "      <td>197</td>\n",
       "      <td>Penguin</td>\n",
       "      <td>$7,000.00</td>\n",
       "    </tr>\n",
       "    <tr>\n",
       "      <th>3</th>\n",
       "      <td>Superfreakonomics</td>\n",
       "      <td>Dubner, Stephen</td>\n",
       "      <td>economics</td>\n",
       "      <td>179</td>\n",
       "      <td>HarperCollins</td>\n",
       "      <td>$22,000.00</td>\n",
       "    </tr>\n",
       "    <tr>\n",
       "      <th>4</th>\n",
       "      <td>Orientalism</td>\n",
       "      <td>Said, Edward</td>\n",
       "      <td>history</td>\n",
       "      <td>197</td>\n",
       "      <td>Penguin</td>\n",
       "      <td>$3,500.00</td>\n",
       "    </tr>\n",
       "    <tr>\n",
       "      <th>5</th>\n",
       "      <td>Nature of Statistical Learning Theory, The</td>\n",
       "      <td>Vapnik, Vladimir</td>\n",
       "      <td>data_science</td>\n",
       "      <td>230</td>\n",
       "      <td>Springer</td>\n",
       "      <td>$4,500.00</td>\n",
       "    </tr>\n",
       "    <tr>\n",
       "      <th>6</th>\n",
       "      <td>Integration of the Indian States</td>\n",
       "      <td>Menon, V P</td>\n",
       "      <td>history</td>\n",
       "      <td>217</td>\n",
       "      <td>Orient Blackswan</td>\n",
       "      <td>$7,500.00</td>\n",
       "    </tr>\n",
       "    <tr>\n",
       "      <th>7</th>\n",
       "      <td>Drunkard's Walk, The</td>\n",
       "      <td>Mlodinow, Leonard</td>\n",
       "      <td>science</td>\n",
       "      <td>197</td>\n",
       "      <td>Penguin</td>\n",
       "      <td>$7,000.00</td>\n",
       "    </tr>\n",
       "    <tr>\n",
       "      <th>8</th>\n",
       "      <td>Image Processing &amp; Mathematical Morphology</td>\n",
       "      <td>Shih, Frank</td>\n",
       "      <td>signal_processing</td>\n",
       "      <td>241</td>\n",
       "      <td>CRC</td>\n",
       "      <td>$6,250.00</td>\n",
       "    </tr>\n",
       "  </tbody>\n",
       "</table>\n",
       "</div>"
      ],
      "text/plain": [
       "                                        Title             Author  \\\n",
       "0                    Fundamentals of Wavelets   Goswami, Jaideva   \n",
       "1                                  Data Smart      Foreman, John   \n",
       "2                    God Created the Integers   Hawking, Stephen   \n",
       "3                           Superfreakonomics    Dubner, Stephen   \n",
       "4                                 Orientalism       Said, Edward   \n",
       "5  Nature of Statistical Learning Theory, The   Vapnik, Vladimir   \n",
       "6            Integration of the Indian States         Menon, V P   \n",
       "7                        Drunkard's Walk, The  Mlodinow, Leonard   \n",
       "8  Image Processing & Mathematical Morphology        Shih, Frank   \n",
       "\n",
       "               Genre  Height         Publisher       Price  \n",
       "0  signal_processing     228             Wiley   $4,000.00  \n",
       "1       data_science     235             Wiley   $5,000.00  \n",
       "2        mathematics     197           Penguin   $7,000.00  \n",
       "3          economics     179     HarperCollins  $22,000.00  \n",
       "4            history     197           Penguin   $3,500.00  \n",
       "5       data_science     230          Springer   $4,500.00  \n",
       "6            history     217  Orient Blackswan   $7,500.00  \n",
       "7            science     197           Penguin   $7,000.00  \n",
       "8  signal_processing     241               CRC   $6,250.00  "
      ]
     },
     "execution_count": 386,
     "metadata": {},
     "output_type": "execute_result"
    }
   ],
   "source": [
    "book_sales=pd.read_csv(\"books.csv\")\n",
    "book_sales"
   ]
  },
  {
   "cell_type": "code",
   "execution_count": 387,
   "metadata": {},
   "outputs": [
    {
     "name": "stderr",
     "output_type": "stream",
     "text": [
      "/var/folders/tg/lmwvqpj52v571r3rpp5rs_900000gn/T/ipykernel_79088/3245881806.py:3: FutureWarning: The default value of regex will change from True to False in a future version.\n",
      "  book_sales[\"Price\"] = book_sales[\"Price\"].str.replace('\\.00]', '' ).astype(int)\n"
     ]
    },
    {
     "ename": "ValueError",
     "evalue": "invalid literal for int() with base 10: '$4,000.00'",
     "output_type": "error",
     "traceback": [
      "\u001b[0;31m---------------------------------------------------------------------------\u001b[0m",
      "\u001b[0;31mValueError\u001b[0m                                Traceback (most recent call last)",
      "Cell \u001b[0;32mIn[387], line 3\u001b[0m\n\u001b[1;32m      1\u001b[0m \u001b[39m#book_sales[\"Price\"].plot() # this wont plot to the graph cause the dtype of price is object. so we need to convert it into numeric type\u001b[39;00m\n\u001b[1;32m      2\u001b[0m \u001b[39m#Converting dtype of price: \u001b[39;00m\n\u001b[0;32m----> 3\u001b[0m book_sales[\u001b[39m\"\u001b[39m\u001b[39mPrice\u001b[39m\u001b[39m\"\u001b[39m] \u001b[39m=\u001b[39m book_sales[\u001b[39m\"\u001b[39;49m\u001b[39mPrice\u001b[39;49m\u001b[39m\"\u001b[39;49m]\u001b[39m.\u001b[39;49mstr\u001b[39m.\u001b[39;49mreplace(\u001b[39m'\u001b[39;49m\u001b[39m\\\u001b[39;49m\u001b[39m.00]\u001b[39;49m\u001b[39m'\u001b[39;49m, \u001b[39m'\u001b[39;49m\u001b[39m'\u001b[39;49m )\u001b[39m.\u001b[39;49mastype(\u001b[39mint\u001b[39;49m)\n",
      "File \u001b[0;32m/Library/Frameworks/Python.framework/Versions/3.11/lib/python3.11/site-packages/pandas/core/generic.py:6240\u001b[0m, in \u001b[0;36mNDFrame.astype\u001b[0;34m(self, dtype, copy, errors)\u001b[0m\n\u001b[1;32m   6233\u001b[0m     results \u001b[39m=\u001b[39m [\n\u001b[1;32m   6234\u001b[0m         \u001b[39mself\u001b[39m\u001b[39m.\u001b[39miloc[:, i]\u001b[39m.\u001b[39mastype(dtype, copy\u001b[39m=\u001b[39mcopy)\n\u001b[1;32m   6235\u001b[0m         \u001b[39mfor\u001b[39;00m i \u001b[39min\u001b[39;00m \u001b[39mrange\u001b[39m(\u001b[39mlen\u001b[39m(\u001b[39mself\u001b[39m\u001b[39m.\u001b[39mcolumns))\n\u001b[1;32m   6236\u001b[0m     ]\n\u001b[1;32m   6238\u001b[0m \u001b[39melse\u001b[39;00m:\n\u001b[1;32m   6239\u001b[0m     \u001b[39m# else, only a single dtype is given\u001b[39;00m\n\u001b[0;32m-> 6240\u001b[0m     new_data \u001b[39m=\u001b[39m \u001b[39mself\u001b[39;49m\u001b[39m.\u001b[39;49m_mgr\u001b[39m.\u001b[39;49mastype(dtype\u001b[39m=\u001b[39;49mdtype, copy\u001b[39m=\u001b[39;49mcopy, errors\u001b[39m=\u001b[39;49merrors)\n\u001b[1;32m   6241\u001b[0m     \u001b[39mreturn\u001b[39;00m \u001b[39mself\u001b[39m\u001b[39m.\u001b[39m_constructor(new_data)\u001b[39m.\u001b[39m__finalize__(\u001b[39mself\u001b[39m, method\u001b[39m=\u001b[39m\u001b[39m\"\u001b[39m\u001b[39mastype\u001b[39m\u001b[39m\"\u001b[39m)\n\u001b[1;32m   6243\u001b[0m \u001b[39m# GH 33113: handle empty frame or series\u001b[39;00m\n",
      "File \u001b[0;32m/Library/Frameworks/Python.framework/Versions/3.11/lib/python3.11/site-packages/pandas/core/internals/managers.py:450\u001b[0m, in \u001b[0;36mBaseBlockManager.astype\u001b[0;34m(self, dtype, copy, errors)\u001b[0m\n\u001b[1;32m    449\u001b[0m \u001b[39mdef\u001b[39;00m \u001b[39mastype\u001b[39m(\u001b[39mself\u001b[39m: T, dtype, copy: \u001b[39mbool\u001b[39m \u001b[39m=\u001b[39m \u001b[39mFalse\u001b[39;00m, errors: \u001b[39mstr\u001b[39m \u001b[39m=\u001b[39m \u001b[39m\"\u001b[39m\u001b[39mraise\u001b[39m\u001b[39m\"\u001b[39m) \u001b[39m-\u001b[39m\u001b[39m>\u001b[39m T:\n\u001b[0;32m--> 450\u001b[0m     \u001b[39mreturn\u001b[39;00m \u001b[39mself\u001b[39;49m\u001b[39m.\u001b[39;49mapply(\u001b[39m\"\u001b[39;49m\u001b[39mastype\u001b[39;49m\u001b[39m\"\u001b[39;49m, dtype\u001b[39m=\u001b[39;49mdtype, copy\u001b[39m=\u001b[39;49mcopy, errors\u001b[39m=\u001b[39;49merrors)\n",
      "File \u001b[0;32m/Library/Frameworks/Python.framework/Versions/3.11/lib/python3.11/site-packages/pandas/core/internals/managers.py:352\u001b[0m, in \u001b[0;36mBaseBlockManager.apply\u001b[0;34m(self, f, align_keys, ignore_failures, **kwargs)\u001b[0m\n\u001b[1;32m    350\u001b[0m         applied \u001b[39m=\u001b[39m b\u001b[39m.\u001b[39mapply(f, \u001b[39m*\u001b[39m\u001b[39m*\u001b[39mkwargs)\n\u001b[1;32m    351\u001b[0m     \u001b[39melse\u001b[39;00m:\n\u001b[0;32m--> 352\u001b[0m         applied \u001b[39m=\u001b[39m \u001b[39mgetattr\u001b[39;49m(b, f)(\u001b[39m*\u001b[39;49m\u001b[39m*\u001b[39;49mkwargs)\n\u001b[1;32m    353\u001b[0m \u001b[39mexcept\u001b[39;00m (\u001b[39mTypeError\u001b[39;00m, \u001b[39mNotImplementedError\u001b[39;00m):\n\u001b[1;32m    354\u001b[0m     \u001b[39mif\u001b[39;00m \u001b[39mnot\u001b[39;00m ignore_failures:\n",
      "File \u001b[0;32m/Library/Frameworks/Python.framework/Versions/3.11/lib/python3.11/site-packages/pandas/core/internals/blocks.py:526\u001b[0m, in \u001b[0;36mBlock.astype\u001b[0;34m(self, dtype, copy, errors)\u001b[0m\n\u001b[1;32m    508\u001b[0m \u001b[39m\u001b[39m\u001b[39m\"\"\"\u001b[39;00m\n\u001b[1;32m    509\u001b[0m \u001b[39mCoerce to the new dtype.\u001b[39;00m\n\u001b[1;32m    510\u001b[0m \n\u001b[0;32m   (...)\u001b[0m\n\u001b[1;32m    522\u001b[0m \u001b[39mBlock\u001b[39;00m\n\u001b[1;32m    523\u001b[0m \u001b[39m\"\"\"\u001b[39;00m\n\u001b[1;32m    524\u001b[0m values \u001b[39m=\u001b[39m \u001b[39mself\u001b[39m\u001b[39m.\u001b[39mvalues\n\u001b[0;32m--> 526\u001b[0m new_values \u001b[39m=\u001b[39m astype_array_safe(values, dtype, copy\u001b[39m=\u001b[39;49mcopy, errors\u001b[39m=\u001b[39;49merrors)\n\u001b[1;32m    528\u001b[0m new_values \u001b[39m=\u001b[39m maybe_coerce_values(new_values)\n\u001b[1;32m    529\u001b[0m newb \u001b[39m=\u001b[39m \u001b[39mself\u001b[39m\u001b[39m.\u001b[39mmake_block(new_values)\n",
      "File \u001b[0;32m/Library/Frameworks/Python.framework/Versions/3.11/lib/python3.11/site-packages/pandas/core/dtypes/astype.py:299\u001b[0m, in \u001b[0;36mastype_array_safe\u001b[0;34m(values, dtype, copy, errors)\u001b[0m\n\u001b[1;32m    296\u001b[0m     \u001b[39mreturn\u001b[39;00m values\u001b[39m.\u001b[39mcopy()\n\u001b[1;32m    298\u001b[0m \u001b[39mtry\u001b[39;00m:\n\u001b[0;32m--> 299\u001b[0m     new_values \u001b[39m=\u001b[39m astype_array(values, dtype, copy\u001b[39m=\u001b[39;49mcopy)\n\u001b[1;32m    300\u001b[0m \u001b[39mexcept\u001b[39;00m (\u001b[39mValueError\u001b[39;00m, \u001b[39mTypeError\u001b[39;00m):\n\u001b[1;32m    301\u001b[0m     \u001b[39m# e.g. astype_nansafe can fail on object-dtype of strings\u001b[39;00m\n\u001b[1;32m    302\u001b[0m     \u001b[39m#  trying to convert to float\u001b[39;00m\n\u001b[1;32m    303\u001b[0m     \u001b[39mif\u001b[39;00m errors \u001b[39m==\u001b[39m \u001b[39m\"\u001b[39m\u001b[39mignore\u001b[39m\u001b[39m\"\u001b[39m:\n",
      "File \u001b[0;32m/Library/Frameworks/Python.framework/Versions/3.11/lib/python3.11/site-packages/pandas/core/dtypes/astype.py:230\u001b[0m, in \u001b[0;36mastype_array\u001b[0;34m(values, dtype, copy)\u001b[0m\n\u001b[1;32m    227\u001b[0m     values \u001b[39m=\u001b[39m values\u001b[39m.\u001b[39mastype(dtype, copy\u001b[39m=\u001b[39mcopy)\n\u001b[1;32m    229\u001b[0m \u001b[39melse\u001b[39;00m:\n\u001b[0;32m--> 230\u001b[0m     values \u001b[39m=\u001b[39m astype_nansafe(values, dtype, copy\u001b[39m=\u001b[39;49mcopy)\n\u001b[1;32m    232\u001b[0m \u001b[39m# in pandas we don't store numpy str dtypes, so convert to object\u001b[39;00m\n\u001b[1;32m    233\u001b[0m \u001b[39mif\u001b[39;00m \u001b[39misinstance\u001b[39m(dtype, np\u001b[39m.\u001b[39mdtype) \u001b[39mand\u001b[39;00m \u001b[39missubclass\u001b[39m(values\u001b[39m.\u001b[39mdtype\u001b[39m.\u001b[39mtype, \u001b[39mstr\u001b[39m):\n",
      "File \u001b[0;32m/Library/Frameworks/Python.framework/Versions/3.11/lib/python3.11/site-packages/pandas/core/dtypes/astype.py:170\u001b[0m, in \u001b[0;36mastype_nansafe\u001b[0;34m(arr, dtype, copy, skipna)\u001b[0m\n\u001b[1;32m    166\u001b[0m     \u001b[39mraise\u001b[39;00m \u001b[39mValueError\u001b[39;00m(msg)\n\u001b[1;32m    168\u001b[0m \u001b[39mif\u001b[39;00m copy \u001b[39mor\u001b[39;00m is_object_dtype(arr\u001b[39m.\u001b[39mdtype) \u001b[39mor\u001b[39;00m is_object_dtype(dtype):\n\u001b[1;32m    169\u001b[0m     \u001b[39m# Explicit copy, or required since NumPy can't view from / to object.\u001b[39;00m\n\u001b[0;32m--> 170\u001b[0m     \u001b[39mreturn\u001b[39;00m arr\u001b[39m.\u001b[39;49mastype(dtype, copy\u001b[39m=\u001b[39;49m\u001b[39mTrue\u001b[39;49;00m)\n\u001b[1;32m    172\u001b[0m \u001b[39mreturn\u001b[39;00m arr\u001b[39m.\u001b[39mastype(dtype, copy\u001b[39m=\u001b[39mcopy)\n",
      "\u001b[0;31mValueError\u001b[0m: invalid literal for int() with base 10: '$4,000.00'"
     ]
    }
   ],
   "source": [
    "#book_sales[\"Price\"].plot() # this wont plot to the graph cause the dtype of price is object. so we need to convert it into numeric type\n",
    "#Converting dtype of price: \n",
    "book_sales[\"Price\"] = book_sales[\"Price\"].str.replace('\\.00]', '' ).astype(int)"
   ]
  },
  {
   "cell_type": "code",
   "execution_count": 384,
   "metadata": {},
   "outputs": [
    {
     "data": {
      "text/html": [
       "<div>\n",
       "<style scoped>\n",
       "    .dataframe tbody tr th:only-of-type {\n",
       "        vertical-align: middle;\n",
       "    }\n",
       "\n",
       "    .dataframe tbody tr th {\n",
       "        vertical-align: top;\n",
       "    }\n",
       "\n",
       "    .dataframe thead th {\n",
       "        text-align: right;\n",
       "    }\n",
       "</style>\n",
       "<table border=\"1\" class=\"dataframe\">\n",
       "  <thead>\n",
       "    <tr style=\"text-align: right;\">\n",
       "      <th></th>\n",
       "      <th>Title</th>\n",
       "      <th>Author</th>\n",
       "      <th>Genre</th>\n",
       "      <th>Height</th>\n",
       "      <th>Publisher</th>\n",
       "      <th>Price</th>\n",
       "    </tr>\n",
       "  </thead>\n",
       "  <tbody>\n",
       "    <tr>\n",
       "      <th>0</th>\n",
       "      <td>Fundamentals of Wavelets</td>\n",
       "      <td>Goswami, Jaideva</td>\n",
       "      <td>signal_processing</td>\n",
       "      <td>228</td>\n",
       "      <td>Wiley</td>\n",
       "      <td>4</td>\n",
       "    </tr>\n",
       "    <tr>\n",
       "      <th>1</th>\n",
       "      <td>Data Smart</td>\n",
       "      <td>Foreman, John</td>\n",
       "      <td>data_science</td>\n",
       "      <td>235</td>\n",
       "      <td>Wiley</td>\n",
       "      <td>5</td>\n",
       "    </tr>\n",
       "    <tr>\n",
       "      <th>2</th>\n",
       "      <td>God Created the Integers</td>\n",
       "      <td>Hawking, Stephen</td>\n",
       "      <td>mathematics</td>\n",
       "      <td>197</td>\n",
       "      <td>Penguin</td>\n",
       "      <td>7</td>\n",
       "    </tr>\n",
       "    <tr>\n",
       "      <th>3</th>\n",
       "      <td>Superfreakonomics</td>\n",
       "      <td>Dubner, Stephen</td>\n",
       "      <td>economics</td>\n",
       "      <td>179</td>\n",
       "      <td>HarperCollins</td>\n",
       "      <td>22</td>\n",
       "    </tr>\n",
       "    <tr>\n",
       "      <th>4</th>\n",
       "      <td>Orientalism</td>\n",
       "      <td>Said, Edward</td>\n",
       "      <td>history</td>\n",
       "      <td>197</td>\n",
       "      <td>Penguin</td>\n",
       "      <td>35</td>\n",
       "    </tr>\n",
       "    <tr>\n",
       "      <th>5</th>\n",
       "      <td>Nature of Statistical Learning Theory, The</td>\n",
       "      <td>Vapnik, Vladimir</td>\n",
       "      <td>data_science</td>\n",
       "      <td>230</td>\n",
       "      <td>Springer</td>\n",
       "      <td>45</td>\n",
       "    </tr>\n",
       "    <tr>\n",
       "      <th>6</th>\n",
       "      <td>Integration of the Indian States</td>\n",
       "      <td>Menon, V P</td>\n",
       "      <td>history</td>\n",
       "      <td>217</td>\n",
       "      <td>Orient Blackswan</td>\n",
       "      <td>75</td>\n",
       "    </tr>\n",
       "    <tr>\n",
       "      <th>7</th>\n",
       "      <td>Drunkard's Walk, The</td>\n",
       "      <td>Mlodinow, Leonard</td>\n",
       "      <td>science</td>\n",
       "      <td>197</td>\n",
       "      <td>Penguin</td>\n",
       "      <td>7</td>\n",
       "    </tr>\n",
       "    <tr>\n",
       "      <th>8</th>\n",
       "      <td>Image Processing &amp; Mathematical Morphology</td>\n",
       "      <td>Shih, Frank</td>\n",
       "      <td>signal_processing</td>\n",
       "      <td>241</td>\n",
       "      <td>CRC</td>\n",
       "      <td>625</td>\n",
       "    </tr>\n",
       "  </tbody>\n",
       "</table>\n",
       "</div>"
      ],
      "text/plain": [
       "                                        Title             Author  \\\n",
       "0                    Fundamentals of Wavelets   Goswami, Jaideva   \n",
       "1                                  Data Smart      Foreman, John   \n",
       "2                    God Created the Integers   Hawking, Stephen   \n",
       "3                           Superfreakonomics    Dubner, Stephen   \n",
       "4                                 Orientalism       Said, Edward   \n",
       "5  Nature of Statistical Learning Theory, The   Vapnik, Vladimir   \n",
       "6            Integration of the Indian States         Menon, V P   \n",
       "7                        Drunkard's Walk, The  Mlodinow, Leonard   \n",
       "8  Image Processing & Mathematical Morphology        Shih, Frank   \n",
       "\n",
       "               Genre  Height         Publisher  Price  \n",
       "0  signal_processing     228             Wiley      4  \n",
       "1       data_science     235             Wiley      5  \n",
       "2        mathematics     197           Penguin      7  \n",
       "3          economics     179     HarperCollins     22  \n",
       "4            history     197           Penguin     35  \n",
       "5       data_science     230          Springer     45  \n",
       "6            history     217  Orient Blackswan     75  \n",
       "7            science     197           Penguin      7  \n",
       "8  signal_processing     241               CRC    625  "
      ]
     },
     "execution_count": 384,
     "metadata": {},
     "output_type": "execute_result"
    }
   ],
   "source": [
    "book_sales"
   ]
  },
  {
   "cell_type": "code",
   "execution_count": null,
   "metadata": {},
   "outputs": [],
   "source": []
  }
 ],
 "metadata": {
  "kernelspec": {
   "display_name": "Python 3",
   "language": "python",
   "name": "python3"
  },
  "language_info": {
   "codemirror_mode": {
    "name": "ipython",
    "version": 3
   },
   "file_extension": ".py",
   "mimetype": "text/x-python",
   "name": "python",
   "nbconvert_exporter": "python",
   "pygments_lexer": "ipython3",
   "version": "3.11.1"
  },
  "orig_nbformat": 4
 },
 "nbformat": 4,
 "nbformat_minor": 2
}
